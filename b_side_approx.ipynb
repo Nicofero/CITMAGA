{
 "cells": [
  {
   "cell_type": "markdown",
   "metadata": {},
   "source": [
    "# Right-hand side vector power series approximation\n",
    "\n",
    "Using [2] for reference, we try their approximation for the initialization of the right-hand side vector of the linear system $b$\n"
   ]
  },
  {
   "cell_type": "code",
   "execution_count": 46,
   "metadata": {},
   "outputs": [],
   "source": [
    "import numpy as np\n",
    "from typing import Optional\n",
    "from qiskit import QuantumCircuit, QuantumRegister, AncillaRegister, transpile, ClassicalRegister\n",
    "from qiskit.circuit.library import PhaseEstimation, RYGate\n",
    "from qiskit.circuit.library.arithmetic.piecewise_chebyshev import PiecewiseChebyshev  \n",
    "from qiskit.circuit.library.arithmetic.exact_reciprocal import ExactReciprocal\n",
    "from numpy_matrix import NumPyMatrix\n",
    "from qiskit.quantum_info import Statevector\n",
    "from qiskit.visualization import plot_histogram\n",
    "from qiskit_aer import AerSimulator\n",
    "from qiskit_aer.primitives import SamplerV2\n",
    "from itertools import product\n",
    "from hhl_functions import *"
   ]
  },
  {
   "cell_type": "code",
   "execution_count": 2,
   "metadata": {},
   "outputs": [
    {
     "name": "stdout",
     "output_type": "stream",
     "text": [
      "       ┌───┐                                                  \n",
      "q_0: ──┤ H ├────────────────■───────────────■──────────────■──\n",
      "       ├───┤                │               │              │  \n",
      "q_1: ──┤ H ├──────■─────────┼───────────────■──────────────■──\n",
      "     ┌─┴───┴─┐┌───┴────┐┌───┴───┐┌───────┐┌─┴─┐┌────────┐┌─┴─┐\n",
      "  a: ┤ Ry(2) ├┤ Ry(12) ├┤ Ry(4) ├┤ Ry(4) ├┤ X ├┤ Ry(-4) ├┤ X ├\n",
      "     └───────┘└────────┘└───────┘└───────┘└───┘└────────┘└───┘\n"
     ]
    },
    {
     "data": {
      "text/plain": [
       "array([0.42073549, 0.07056   , 0.3284933 , 0.21008352])"
      ]
     },
     "execution_count": 2,
     "metadata": {},
     "output_type": "execute_result"
    }
   ],
   "source": [
    "size = 2\n",
    "qr = QuantumRegister(size,name='q')\n",
    "qa = AncillaRegister(1,name=\"a\")\n",
    "qc = QuantumCircuit(qr,qa)\n",
    "\n",
    "for i in range(size):\n",
    "    qc.h(i)\n",
    "# p(x) = x^2 + x + 1\n",
    "\n",
    "qc.ry(2*1,qa)\n",
    "qc.cry(2*(4+2),qr[1],qa)\n",
    "qc.cry(2*(1+1),qr[0],qa)\n",
    "qc.mcry(2*4,qr[:],qa)\n",
    "\n",
    "#qc.initialize(vector/np.linalg.norm(vector),range(2),None)\n",
    "\n",
    "print(qc.draw())\n",
    "\n",
    "st = Statevector(qc)\n",
    "\n",
    "st.data.real[4:]"
   ]
  },
  {
   "cell_type": "code",
   "execution_count": 119,
   "metadata": {},
   "outputs": [],
   "source": [
    "def parse_func(poly_str):\n",
    "    # Remove spaces\n",
    "    poly_str = poly_str.replace(' ', '')\n",
    "    \n",
    "    # Standardize the polynomial string to handle positive terms properly\n",
    "    poly_str = poly_str.replace('-', '+-')\n",
    "    if poly_str[0] == '+':\n",
    "        poly_str = poly_str[1:]\n",
    "    \n",
    "    # Split the string into terms\n",
    "    terms = poly_str.split('+')\n",
    "    \n",
    "    coefficients = {}\n",
    "    max_degree = 0\n",
    "    \n",
    "    for term in terms:\n",
    "        if 'x' in term:\n",
    "            if '^' in term:\n",
    "                coef, exp = term.split('x^')\n",
    "                exp = int(exp)\n",
    "            else:\n",
    "                coef, exp = term.split('x')\n",
    "                exp = 1\n",
    "            \n",
    "            if coef in ('', '+'):\n",
    "                coef = 1\n",
    "            elif coef == '-':\n",
    "                coef = -1\n",
    "            else:\n",
    "                coef = int(coef)\n",
    "        else:\n",
    "            coef = int(term)\n",
    "            exp = 0\n",
    "        \n",
    "        coefficients[exp] = coef\n",
    "        if exp > max_degree:\n",
    "            max_degree = exp\n",
    "    \n",
    "    # Fill missing degrees with 0\n",
    "    all_coefficients = [coefficients.get(i, 0) for i in range(max_degree + 1)]\n",
    "    return all_coefficients,max_degree\n",
    "\n",
    "def value_func(coefs,nb):\n",
    "    \n",
    "    if not isinstance(coefs,np.ndarray):\n",
    "        coefs = np.array(coefs)\n",
    "    \n",
    "    size = 2**nb\n",
    "    \n",
    "    pol=[]\n",
    "    for i in range(size):\n",
    "        aux = 0\n",
    "        for j in range(1,len(coefs)):\n",
    "            aux +=coefs[j]*i**j\n",
    "        pol.append(aux)     \n",
    "    \n",
    "    return pol\n",
    "\n",
    "def loc_ancilla(qc: QuantumCircuit):\n",
    "    i=0\n",
    "    pos=0\n",
    "    while True:        \n",
    "        if isinstance(qc.qregs[i],AncillaRegister):\n",
    "            break\n",
    "        else:\n",
    "            pos+= qc.qregs[i].size\n",
    "            i+=1\n",
    "            \n",
    "    return pos\n",
    "    \n",
    "def ccry(qc:QuantumCircuit,theta: float,control: list,target):\n",
    "    ry = RYGate(theta).control(len(control))\n",
    "    if isinstance(control,list):\n",
    "        if isinstance(target,list):\n",
    "            qc.append(ry,control+target)\n",
    "        elif isinstance(target,AncillaRegister):\n",
    "            qc.append(ry,control+[loc_ancilla(qc)])\n",
    "            \n",
    "    return qc\n",
    "\n",
    "def b_state(nb: int,function: str,c: float = 1) -> QuantumCircuit:\n",
    "    \"\"\"Defines the b state from an approximation polynomic function\n",
    "    \n",
    "    Args:\n",
    "        `nb`: The number of qubits needed to represent the vector\n",
    "        `function`: A string representing the function. The style must be: 'ax^n+bx^n-1+...+z'. Where a,b,...,z are the amplitudes.\n",
    "        \n",
    "    \"\"\"\n",
    "    qr = QuantumRegister(nb,name=\"b\")\n",
    "    qa = AncillaRegister(1,name='a')\n",
    "    qc = QuantumCircuit(qr,qa)\n",
    "    \n",
    "    qc.h(qr[:])\n",
    "    \n",
    "    # Processing of `function`\n",
    "    ampl,D = parse_func(function)\n",
    "    \n",
    "    # Value of `function`\n",
    "    pol = value_func(ampl,nb)\n",
    "    \n",
    "    if ampl[0]!=0:\n",
    "        qc.ry(D*ampl[0]*c,qa)\n",
    "    \n",
    "    size = 2**nb\n",
    "    \n",
    "    for i in range(1,size):        \n",
    "        if (np.floor(np.log2(i))==np.ceil(np.log2(i))):\n",
    "            if pol[i]!=0:\n",
    "                qc.cry(D*pol[i]*c,qr[int(np.log2(i))],qa)\n",
    "        else:\n",
    "            bin_aux = bin(i)[2:]\n",
    "            index = [len(bin_aux) - 1 - j for j, digit in enumerate(bin_aux) if digit == '1' ]\n",
    "            # I dont remember why this 2**i, but it made sense in the moment i coded it\n",
    "            aux = [pol[2**i] for i in index]\n",
    "            elem = pol[i]-np.sum(aux)\n",
    "            if elem != 0:\n",
    "                # qc.mcry(D*elem*c,index,qa) \n",
    "                qc = ccry(qc,D*elem*c,index,qa)    \n",
    "    return qc"
   ]
  },
  {
   "cell_type": "code",
   "execution_count": 104,
   "metadata": {},
   "outputs": [
    {
     "data": {
      "image/png": "[encoded data removed]",
      "text/plain": [
       "<Figure size 371.107x284.278 with 1 Axes>"
      ]
     },
     "execution_count": 104,
     "metadata": {},
     "output_type": "execute_result"
    }
   ],
   "source": [
    "b = b_state(2,'x',1)\n",
    "b.draw('mpl')"
   ]
  },
  {
   "cell_type": "code",
   "execution_count": 120,
   "metadata": {},
   "outputs": [
    {
     "data": {
      "text/plain": [
       "array([-1.05335745e-17,  8.32570804e-01, -2.55838386e-01, -4.91296832e-01])"
      ]
     },
     "execution_count": 120,
     "metadata": {},
     "output_type": "execute_result"
    }
   ],
   "source": [
    "b = b_state(2,'x^2+x',1)\n",
    "state = Statevector(b)\n",
    "state = state.data.real[4:]\n",
    "state/np.linalg.norm(state)"
   ]
  },
  {
   "cell_type": "code",
   "execution_count": 121,
   "metadata": {},
   "outputs": [
    {
     "data": {
      "image/png": "[encoded data removed]",
      "text/plain": [
       "<Figure size 454.719x284.278 with 1 Axes>"
      ]
     },
     "execution_count": 121,
     "metadata": {},
     "output_type": "execute_result"
    }
   ],
   "source": [
    "b.draw('mpl')"
   ]
  },
  {
   "cell_type": "code",
   "execution_count": 43,
   "metadata": {},
   "outputs": [
    {
     "name": "stdout",
     "output_type": "stream",
     "text": [
      "[0.         0.19069252 0.47673129 0.85811633]\n"
     ]
    }
   ],
   "source": [
    "arr = np.array([0,4/9,10/9,2])\n",
    "qc = QuantumCircuit(2)\n",
    "qc.initialize(arr/np.linalg.norm(arr))\n",
    "state = Statevector(qc)\n",
    "print(state.data.real)"
   ]
  }
 ],
 "metadata": {
  "kernelspec": {
   "display_name": "Python 3",
   "language": "python",
   "name": "python3"
  },
  "language_info": {
   "codemirror_mode": {
    "name": "ipython",
    "version": 3
   },
   "file_extension": ".py",
   "mimetype": "text/x-python",
   "name": "python",
   "nbconvert_exporter": "python",
   "pygments_lexer": "ipython3",
   "version": "3.10.0"
  }
 },
 "nbformat": 4,
 "nbformat_minor": 2
}
