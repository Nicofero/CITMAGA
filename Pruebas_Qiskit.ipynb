{
 "cells": [
  {
   "cell_type": "markdown",
   "id": "01a50a8d",
   "metadata": {},
   "source": [
    "# Qiskit tests\n",
    "## Creation of a circuit that implements HHL for Toeplitz symmetrical tridiagonal matrix \n",
    "\n",
    "This notebook is based in 2 papers:\n",
    "\n",
    "- [1] : Harrow, A. W., Hassidim, A., Lloyd, S. (2009). Quantum algorithm for linear systems of equations. Phys. Rev. Lett. 103, 15 (2009), 1–15. <https://doi.org/10.1103/PhysRevLett.103.150502>\n",
    "- [2] : Carrera Vazquez, A., Hiptmair, R., & Woerner, S. (2020). Enhancing the Quantum Linear Systems Algorithm using Richardson Extrapolation.arXiv:2009.04484 <http://arxiv.org/abs/2009.04484>`\n",
    "\n",
    "The code is mostly based in the original code for the HHL solver in Qiskit-Algorithms"
   ]
  },
  {
   "cell_type": "code",
   "execution_count": 5,
   "id": "0f2d3f9b",
   "metadata": {},
   "outputs": [],
   "source": [
    "import numpy as np\n",
    "from typing import Optional\n",
    "from qiskit import QuantumCircuit, QuantumRegister, AncillaRegister, transpile, ClassicalRegister\n",
    "from qiskit.circuit.library import PhaseEstimation\n",
    "from qiskit.circuit.library.arithmetic.piecewise_chebyshev import PiecewiseChebyshev  \n",
    "from qiskit.circuit.library.arithmetic.exact_reciprocal import ExactReciprocal\n",
    "from numpy_matrix import NumPyMatrix\n",
    "from qiskit.quantum_info import Statevector\n",
    "from qiskit.visualization import plot_histogram\n",
    "from qiskit_aer import AerSimulator\n",
    "from qiskit_aer.primitives import SamplerV2\n",
    "from itertools import product"
   ]
  },
  {
   "cell_type": "markdown",
   "id": "2754f96c",
   "metadata": {},
   "source": [
    "1. Build circuit\n",
    "2. Build observables [2]"
   ]
  },
  {
   "cell_type": "code",
   "execution_count": 6,
   "id": "ae05a5ec",
   "metadata": {},
   "outputs": [],
   "source": [
    "def get_delta(n_l: int, lambda_min: float, lambda_max: float) -> float:\n",
    "    \"\"\"Calculates the scaling factor to represent exactly lambda_min on nl binary digits.\n",
    "\n",
    "    Args:\n",
    "        n_l: The number of qubits to represent the eigenvalues.\n",
    "        lambda_min: the smallest eigenvalue.\n",
    "        lambda_max: the largest eigenvalue.\n",
    "\n",
    "    Returns:\n",
    "        The value of the scaling factor.\n",
    "    \"\"\"\n",
    "    formatstr = \"#0\" + str(n_l + 2) + \"b\"\n",
    "    lambda_min_tilde = np.abs(lambda_min * (2 ** n_l - 1) / lambda_max)\n",
    "    # floating point precision can cause problems\n",
    "    if np.abs(lambda_min_tilde - 1) < 1e-7:\n",
    "        lambda_min_tilde = 1\n",
    "    binstr = format(int(lambda_min_tilde), formatstr)[2::]\n",
    "    lamb_min_rep = 0\n",
    "    for i, char in enumerate(binstr):\n",
    "        lamb_min_rep += int(char) / (2 ** (i + 1))\n",
    "    return lamb_min_rep\n"
   ]
  },
  {
   "cell_type": "code",
   "execution_count": 7,
   "id": "631a5425",
   "metadata": {},
   "outputs": [],
   "source": [
    "def calculate_norm(qc: QuantumCircuit, scaling) -> float:\n",
    "    \"\"\"Calculates the value of the euclidean norm of the solution.\n",
    "\n",
    "    Args:\n",
    "        qc: The quantum circuit preparing the solution x to the system.\n",
    "\n",
    "    Returns:\n",
    "        The value of the euclidean norm of the solution.\n",
    "    \"\"\"\n",
    "    # Calculate the number of qubits\n",
    "    nb = qc.qregs[0].size\n",
    "    nl = qc.qregs[1].size\n",
    "    na = qc.num_ancillas\n",
    "\n",
    "    # Create the Operators Zero and One\n",
    "    # Pauli Strings\n",
    "\n",
    "    # I = Identity\n",
    "    # Z = Z-Gate\n",
    "    uno = np.zeros(2)\n",
    "    uno[-1] = 1\n",
    "    aux = np.outer(uno,uno)\n",
    "    I_nb = np.eye(2**nb)\n",
    "    M = np.kron(aux,I_nb)\n",
    "    \n",
    "    # Get the state of the circuit\n",
    "    statevector = Statevector(qc)\n",
    "    st=np.array(statevector).real\n",
    "    num = int(len(st)/2)\n",
    "    \n",
    "    # Define solution\n",
    "    sol = []\n",
    "    for i in range(2):\n",
    "        sol.append(st[num+i].real)\n",
    "    sol = np.array(sol)\n",
    "    st = st[nb:]\n",
    "    \n",
    "    # Calculate observable\n",
    "    M_dg = M.conj().T\n",
    "    obs = M_dg @ M\n",
    "    norm_2 = np.vdot(st,obs @ st)\n",
    "\n",
    "    return np.real(np.sqrt(norm_2) / scaling)"
   ]
  },
  {
   "cell_type": "code",
   "execution_count": 8,
   "id": "b12c267c",
   "metadata": {},
   "outputs": [],
   "source": [
    "#Function to build the HHL circuit\n",
    "def build_circuit(matrix, vector, tolerance: float = 10e-2, flag: bool = True, meas: bool = False):\n",
    "    \"\"\"\n",
    "    Builds the HHL circuit using the required args\n",
    "    \n",
    "    Args:\n",
    "        `matrix`: The matrix that defines the linear system, i.e. A in Ax = b.\n",
    "        `vector`: The right-hand side of the equation, i.e. b in Ax = b.\n",
    "        `tolerance`: Tolerance of the solution bounds. This value is used to define the 3 tolerances needed for the HHL [2] equation (62).\n",
    "        `flag`: Flag deciding whether the reciprocal circuit is or not exact\n",
    "        `meas`: Flag deciding whether measures are made in the non x qubits\n",
    "        \n",
    "    Returns:\n",
    "        The HHL circuit\n",
    "    \n",
    "    Raises:\n",
    "        ValueError: If the data is not in the right format\n",
    "        ValueError: The matrix dimension is not correct\n",
    "    \"\"\"\n",
    "    \n",
    "    # Define the tolerances of the circuit\n",
    "    epsilon_a = tolerance/6\n",
    "    epsilon_r = tolerance/3\n",
    "    epsilon_s = tolerance/3\n",
    "    \n",
    "    # We need an np.array to write the values to the register\n",
    "    if isinstance(vector,(list,np.ndarray)):\n",
    "        if isinstance(vector,list):\n",
    "            vector = np.array(vector)    \n",
    "        # We define the number of needed qubits and insert the vector to the register\n",
    "        nb = int(np.log2(len(vector)))\n",
    "        vector_circuit = QuantumCircuit(nb)\n",
    "        vector_circuit.initialize(vector / np.linalg.norm(vector), list(range(nb)), None)\n",
    "        # for i in range(nb):\n",
    "        #     vector_circuit.h(i)\n",
    "    else:\n",
    "        raise ValueError(f\"Invalid type for vector: {type(vector)}.\")\n",
    "    \n",
    "    # Define flag, if 1, correct solution, if 0, incorrect\n",
    "    nf = 1\n",
    "    \n",
    "    # Input the matrix A for the QPE\n",
    "    if isinstance(matrix, (list, np.ndarray)):\n",
    "        if isinstance(matrix, list):\n",
    "            matrix = np.array(matrix)\n",
    "\n",
    "        if matrix.shape[0] != matrix.shape[1]:\n",
    "            raise ValueError(\"Input matrix must be square!\")\n",
    "        \n",
    "        if np.log2(matrix.shape[0]) % 1 != 0:\n",
    "            raise ValueError(\"Input matrix dimension must be 2^n!\")\n",
    "        \n",
    "        if not np.allclose(matrix, matrix.conj().T):\n",
    "            raise ValueError(\"Input matrix must be hermitian!\")\n",
    "        \n",
    "        if matrix.shape[0] != 2 ** vector_circuit.num_qubits:\n",
    "            raise ValueError(\n",
    "                \"Input vector dimension does not match input \"\n",
    "                \"matrix dimension! Vector dimension: \"\n",
    "                + str(vector_circuit.num_qubits)\n",
    "                + \". Matrix dimension: \"\n",
    "                + str(matrix.shape[0])\n",
    "            )\n",
    "        # We default to a TridiagonalToeplitz matrix, but in a general case we would use a more general library\n",
    "        # Also, we want the evolution_time to be 2pi/\\landa_{max}, but we update it after, when we have the eigenvalues of the matrix\n",
    "        matrix_circuit = NumPyMatrix(matrix,evolution_time=2 * np.pi, tolerance=epsilon_a)\n",
    "        \n",
    "        # General case\n",
    "        # matrix_circuit = NumPyMatrix(matrix, evolution_time=2 * np.pi)\n",
    "        \n",
    "    else:\n",
    "        raise ValueError(f\"Invalid type for matrix: {type(matrix)}.\")\n",
    "    \n",
    "    # Define condition and eigenvalue bounds    \n",
    "    if (hasattr(matrix_circuit, \"condition_bounds\")):\n",
    "        kappa = matrix_circuit.condition_bounds()[1]\n",
    "    else:\n",
    "        kappa = 1\n",
    "    # Using kappa, the condition bound,  we define nl, the number of qubits needed to represent the eigenvalues\n",
    "    nl = max(nb+1,int(np.log2(kappa))+1)\n",
    "    \n",
    "    # Define eigenvalues\n",
    "    if hasattr(matrix_circuit, \"eigs_bounds\"):\n",
    "        lambda_min, lambda_max = matrix_circuit.eigs_bounds()\n",
    "        \n",
    "        # Constant so that the minimum eigenvalue is represented exactly, since it contributes\n",
    "        # the most to the solution of the system\n",
    "        delta = get_delta(nl, lambda_min, lambda_max)\n",
    "        # Update evolution time\n",
    "        matrix_circuit.evolution_time = 2 * np.pi * delta / lambda_min\n",
    "        # Update the scaling of the solution\n",
    "        scaling = lambda_min\n",
    "    else:\n",
    "        delta = 1 / (2 ** nl)\n",
    "        print(\"The solution will be calculated up to a scaling factor.\")\n",
    "    \n",
    "        \n",
    "    # Define the reciprocal circuit\n",
    "    \n",
    "    # # Using an exact reciprocal circuit\n",
    "    if flag:\n",
    "        reciprocal_circuit = ExactReciprocal(nl, delta)\n",
    "        # Update number of ancilla qubits\n",
    "        na = matrix_circuit.num_ancillas\n",
    "    \n",
    "    # Using Chebyshev interpolation to approximate arcsin(C/x) to a degree of degree\n",
    "    else: \n",
    "        # Calculate breakpoints for the reciprocal approximation\n",
    "        num_values = 2 ** nl\n",
    "        constant = delta\n",
    "        # a as [2] indicates\n",
    "        \n",
    "        # No tengo para nada claro esto, no encuentro que hay que hacer con la a para pasarla a entero\n",
    "        a = int(2**(2*nl/3))  # pylint: disable=invalid-name\n",
    "\n",
    "        # Calculate the degree of the polynomial and the number of intervals\n",
    "        r = 2 * constant / a + np.sqrt(np.abs(1 - (2 * constant / a) ** 2))\n",
    "        degree = min(nb,int(np.log(1+(16.23* np.sqrt(np.log(r) ** 2 + (np.pi / 2) ** 2)* kappa* (2 * kappa - epsilon_r))/ epsilon_r)),)\n",
    "        # As [2]\n",
    "        num_intervals = int(np.ceil(np.log((num_values - 1) / a) / np.log(5)))\n",
    "\n",
    "        # Calculate breakpoints and polynomials\n",
    "        breakpoints = []\n",
    "        for i in range(0, num_intervals):\n",
    "            # Add the breakpoint to the list\n",
    "            breakpoints.append(a * (5 ** i))\n",
    "\n",
    "            # Define the right breakpoint of the interval\n",
    "            if i == num_intervals - 1:\n",
    "                breakpoints.append(num_values - 1)\n",
    "        # Once we have the intervals, and everything is defined, we can make an approximation by a polynomial function of degree\n",
    "        reciprocal_circuit = PiecewiseChebyshev(\n",
    "            lambda x: np.arcsin(constant / x), degree, breakpoints, nl, name=\"c_Rot\"\n",
    "        )\n",
    "        # Number of ancilla qubits\n",
    "        na = max(matrix_circuit.num_ancillas, reciprocal_circuit.num_ancillas)\n",
    "        \n",
    "    # Construction of the circuit\n",
    "    \n",
    "    # Initialise the quantum registers\n",
    "    qb = QuantumRegister(nb,name=\"b\")  # right hand side and solution\n",
    "    ql = QuantumRegister(nl,name=\"0\")  # eigenvalue evaluation qubits\n",
    "    if na > 0:\n",
    "        qa = AncillaRegister(na,name=\"anc\")  # ancilla qubits\n",
    "    qf = QuantumRegister(nf,name=\"flag\")  # flag qubits\n",
    "\n",
    "    if na > 0:\n",
    "        qc = QuantumCircuit(qb, ql, qa, qf)\n",
    "    else:\n",
    "        qc = QuantumCircuit(qb, ql, qf)\n",
    "\n",
    "    # State preparation\n",
    "    qc.append(vector_circuit, qb[:])\n",
    "    qc.barrier(label=\"\\pi_1\")\n",
    "    # QPE\n",
    "    phase_estimation = PhaseEstimation(nl, matrix_circuit)\n",
    "    if na > 0:\n",
    "        qc.append(phase_estimation, ql[:] + qb[:] + qa[: matrix_circuit.num_ancillas])\n",
    "    else:\n",
    "        qc.append(phase_estimation, ql[:] + qb[:])\n",
    "    qc.barrier(label=\"\\pi_2\")\n",
    "    # Conditioned rotation\n",
    "    if flag:\n",
    "        qc.append(reciprocal_circuit, ql[::-1] + [qf[0]])\n",
    "    else:\n",
    "        qc.append(\n",
    "            reciprocal_circuit.to_instruction(),\n",
    "            ql[::-1] + [qf[0]] + qa[: reciprocal_circuit.num_ancillas],\n",
    "        )\n",
    "    \n",
    "    qc.barrier(label=\"\\pi_3\")\n",
    "    # QPE inverse\n",
    "    if na > 0:\n",
    "        qc.append(phase_estimation.inverse(), ql[:] + qb[:] + qa[: matrix_circuit.num_ancillas])\n",
    "    else:\n",
    "        qc.append(phase_estimation.inverse(), ql[:] + qb[:])\n",
    "    \n",
    "    if meas:\n",
    "        qc.measure_all()\n",
    "    return qc,scaling"
   ]
  },
  {
   "cell_type": "code",
   "execution_count": 9,
   "id": "f3da5a67",
   "metadata": {},
   "outputs": [],
   "source": [
    "# Calc observables\n",
    "def calc_observables(qc: QuantumCircuit, observable: Optional[int] = 3):\n",
    "    \"\"\"Calculates the value of the observable(s) given.\n",
    "\n",
    "        Args:\n",
    "            `qc`: The quantum circuit preparing the solution x to the system.\n",
    "            # TODO\n",
    "            # Not yet implemented\n",
    "            `observable`: Information to be extracted from the solution. 1 - ||x'||, 2 - F_b(x), 3 - Average solution\n",
    "            `post_processing`: Function to compute the value of the observable.\n",
    "\n",
    "        Returns:\n",
    "            The value of the observable(s) and the circuit results before post-processing as a tuple.\n",
    "        \"\"\"\n",
    "    nb = qc.qregs[0].size\n",
    "    nl = qc.qregs[1].size\n",
    "    na = qc.num_ancillas\n",
    "    \n",
    "    \n",
    "    solution = 0\n",
    "    return solution"
   ]
  },
  {
   "cell_type": "code",
   "execution_count": 10,
   "id": "d291d158",
   "metadata": {},
   "outputs": [],
   "source": [
    "# Solve circuit\n",
    "def solve(qc: QuantumCircuit):\n",
    "    solution = 0\n",
    "    return solution"
   ]
  },
  {
   "cell_type": "code",
   "execution_count": 11,
   "id": "29daaf9e",
   "metadata": {},
   "outputs": [],
   "source": [
    "def tridiag_matrix(diag,up,n) -> np.ndarray:\n",
    "    \"\"\"Returns a tridiagonal symmetrical matrix\n",
    "    \n",
    "    Args:\n",
    "        `diag`: Value of the diagonal\n",
    "        `up`: Value of the subdiagonals\n",
    "        `n`: Size of the matrix\n",
    "    \n",
    "    Returns:\n",
    "        The matrix\n",
    "    \"\"\"\n",
    "    if n<2: \n",
    "        raise ValueError(\"The dimension of the matrix must be greater than 2\")\n",
    "    \n",
    "    rows = []\n",
    "    \n",
    "    for i in range(n):\n",
    "        row = np.zeros(n)\n",
    "        if i>0:\n",
    "            row[i-1]=up\n",
    "        row[i]=diag\n",
    "        if i<n-1:\n",
    "            row[i+1]=up\n",
    "            \n",
    "        rows.append(row)\n",
    "        \n",
    "    matrix = np.array(rows)\n",
    "    return matrix"
   ]
  },
  {
   "cell_type": "code",
   "execution_count": 12,
   "id": "ac4d4737",
   "metadata": {},
   "outputs": [],
   "source": [
    "def create_observable(qc: QuantumCircuit):\n",
    "    nb = qc.qregs[0].size\n",
    "    nl = qc.qregs[1].size\n",
    "    na = qc.num_ancillas\n",
    "    \n",
    "    zero_op = np.array([[1,0],[0,0]])\n",
    "    one_op = np.array([[0,0],[0,1]])\n",
    "    t_zero= zero_op\n",
    "    t_one = one_op\n",
    "    \n",
    "    for _ in range(nl+na):\n",
    "        t_zero = np.kron(t_zero,zero_op)\n",
    "        \n",
    "    for _ in range(nb):\n",
    "        t_one = np.kron(t_one,one_op)\n",
    "        \n",
    "    observable = np.kron(t_one,np.kron(t_zero,t_one))\n",
    "    return observable"
   ]
  },
  {
   "cell_type": "code",
   "execution_count": 13,
   "id": "30f42bf3",
   "metadata": {},
   "outputs": [],
   "source": [
    "def calculate_expectation_value_from_counts(counts, observable):\n",
    "    expectation_value = 0\n",
    "    total_shots = sum(counts.values())\n",
    "    \n",
    "    for outcome, count in counts.items():\n",
    "        prob = count / total_shots\n",
    "        # Convert binary string outcome to integer\n",
    "        outcome_index = int(outcome, 2)\n",
    "        # Extract the diagonal element corresponding to the outcome\n",
    "        expectation_value += prob * observable[outcome_index, outcome_index]\n",
    "    \n",
    "    return expectation_value"
   ]
  },
  {
   "cell_type": "code",
   "execution_count": 89,
   "id": "503689de",
   "metadata": {},
   "outputs": [],
   "source": [
    "def solution(qc: QuantumCircuit) -> np.ndarray:\n",
    "    statevector = Statevector(qc)\n",
    "    st=np.array(statevector)\n",
    "    num = int(len(st)/2)\n",
    "    sol = []\n",
    "    for i in range(2**qc.qregs[0].size):\n",
    "        sol.append(st[num+i].real)\n",
    "    sol = np.array(sol)\n",
    "    sol = sol/np.linalg.norm(sol)\n",
    "    return sol"
   ]
  },
  {
   "cell_type": "markdown",
   "id": "86362a87",
   "metadata": {},
   "source": [
    "---\n",
    "# **Test**"
   ]
  },
  {
   "cell_type": "code",
   "execution_count": 15,
   "id": "bec8f818",
   "metadata": {},
   "outputs": [
    {
     "data": {
      "image/png": "[encoded data removed]",
      "text/plain": [
       "<Figure size 890.399x367.889 with 1 Axes>"
      ]
     },
     "execution_count": 15,
     "metadata": {},
     "output_type": "execute_result"
    }
   ],
   "source": [
    "vector = np.array([1,1])\n",
    "matrix = tridiag_matrix(2,-1,2)\n",
    "\n",
    "hhl,scaling = build_circuit(matrix,vector,10e-2,flag=True)\n",
    "hhl.draw('mpl')\n",
    "\n",
    "\n",
    "# Code to print the circuit into latex code\n",
    "# tes=hhl.draw('latex_source')\n",
    "# f = open('aux.tex','a+')\n",
    "# f.write(tes)\n",
    "# f.close()\n",
    "\n",
    "# hhl_d = hhl.decompose(reps=5)\n",
    "\n",
    "# hhl_d.draw('mpl')\n"
   ]
  },
  {
   "cell_type": "code",
   "execution_count": 85,
   "id": "52bae72e",
   "metadata": {},
   "outputs": [
    {
     "data": {
      "image/png": "[encoded data removed]",
      "text/plain": [
       "<Figure size 974.01x618.722 with 1 Axes>"
      ]
     },
     "execution_count": 85,
     "metadata": {},
     "output_type": "execute_result"
    }
   ],
   "source": [
    "vector = np.array([1]*4)\n",
    "matrix = tridiag_matrix(2,-1,4)\n",
    "hhl,_ = build_circuit(matrix,vector,flag=True)\n",
    "hhl.decompose(reps=0).draw('mpl')"
   ]
  },
  {
   "cell_type": "markdown",
   "id": "efdf3076",
   "metadata": {},
   "source": [
    "-----\n",
    "We can test the circuit using statevectors"
   ]
  },
  {
   "cell_type": "code",
   "execution_count": 90,
   "id": "7689659a",
   "metadata": {},
   "outputs": [
    {
     "name": "stdout",
     "output_type": "stream",
     "text": [
      "[0.39206738 0.5884583  0.5884583  0.39206738]\n"
     ]
    }
   ],
   "source": [
    "sol1=solution(hhl)\n",
    "print(sol1)"
   ]
  },
  {
   "cell_type": "markdown",
   "id": "fcc4888e",
   "metadata": {},
   "source": [
    "Exact solution"
   ]
  },
  {
   "cell_type": "code",
   "execution_count": 18,
   "id": "e5dc37f6",
   "metadata": {},
   "outputs": [
    {
     "name": "stdout",
     "output_type": "stream",
     "text": [
      "[0.39223227 0.58834841 0.58834841 0.39223227]\n"
     ]
    }
   ],
   "source": [
    "sol=np.linalg.solve(matrix,vector/np.linalg.norm(vector))\n",
    "sol/np.linalg.norm(sol)\n",
    "norm=np.sqrt(sum(sol**2))\n",
    "\n",
    "sol2=sol/norm\n",
    "print(sol2)"
   ]
  },
  {
   "cell_type": "markdown",
   "id": "5ad02a9d",
   "metadata": {},
   "source": [
    "If we have a 2-dimensional vector, the solution with statevectors is exact (we only have one qubit for $b$). But as we increase the dimension, the solution worsens"
   ]
  },
  {
   "cell_type": "code",
   "execution_count": 19,
   "id": "789663fc",
   "metadata": {},
   "outputs": [
    {
     "name": "stdout",
     "output_type": "stream",
     "text": [
      "The difference is: [0.00016489 0.00010989 0.00010989 0.00016489]\n",
      "The norm of the diff is: 0.000280227056225066\n"
     ]
    }
   ],
   "source": [
    "diff = np.abs(sol1-sol2)\n",
    "print(f'The difference is: {diff}')\n",
    "MSE = np.linalg.norm(diff)\n",
    "print(f'The norm of the diff is: {MSE}')"
   ]
  },
  {
   "cell_type": "markdown",
   "id": "75e8d99b",
   "metadata": {},
   "source": [
    "-----\n",
    "## Simulation with shots"
   ]
  },
  {
   "cell_type": "code",
   "execution_count": 20,
   "id": "ab62d427",
   "metadata": {},
   "outputs": [],
   "source": [
    "def prob_from_counts(counts,shots: int, repeat) -> np.ndarray:\n",
    "    \"\"\" Calculates the expected amplitudes of the solution |x> without normalization\n",
    "    \n",
    "    Args:\n",
    "        `counts`: Counts as a dictionary {'xxxxx': number}, obtained from a simulation or run in a real QPU\n",
    "        `shots`: Number of shots (runs) of the circuit\n",
    "        `repeat`: Number of qubits used to represent the right-hand side vector in the system\n",
    "    Returns:\n",
    "        The non normalized amplitudes of the solution. To get the real solution, you should normalize it and multiply it by the norm of the solution.\n",
    "    \"\"\" \n",
    "    if not isinstance(repeat,int):\n",
    "        repeat = int(repeat)\n",
    "        \n",
    "    all_outcomes = [''.join(outcome) for outcome in product('01', repeat=repeat)]\n",
    "\n",
    "    # Initialize the dictionary with each binary string as a key and a value of 0\n",
    "    prob_amplitudes = {outcome: 0 for outcome in all_outcomes}\n",
    "\n",
    "    for outcome, count in counts.items():\n",
    "        first_qubit_state = outcome[-repeat:]  # Get the state of the first qubit\n",
    "        prob_amplitudes[first_qubit_state] += count / shots\n",
    "\n",
    "    ampl = np.array(list(prob_amplitudes.values()))\n",
    "    return ampl"
   ]
  },
  {
   "cell_type": "code",
   "execution_count": 21,
   "id": "0a86a4dd",
   "metadata": {},
   "outputs": [
    {
     "name": "stdout",
     "output_type": "stream",
     "text": [
      "Estimated amplitudes of the solution: [0.16516113 0.3371582  0.33032227 0.1673584 ]\n"
     ]
    },
    {
     "data": {
      "image/png": "[encoded data removed]",
      "text/plain": [
       "<Figure size 640x480 with 1 Axes>"
      ]
     },
     "execution_count": 21,
     "metadata": {},
     "output_type": "execute_result"
    }
   ],
   "source": [
    "sim = AerSimulator()\n",
    "hhl_meas,_ = build_circuit(matrix,vector,10e-4,True,True)\n",
    "hhl_meas = transpile(hhl_meas,sim)\n",
    "\n",
    "sampler = SamplerV2()\n",
    "\n",
    "shots = 8192\n",
    "\n",
    "job = sampler.run([hhl_meas],shots=shots)\n",
    "job_result = job.result()\n",
    "\n",
    "counts=job_result[0].data.meas.get_counts()\n",
    "\n",
    "prob_amplitudes = prob_from_counts(counts,shots,np.log2(len(vector)))\n",
    "\n",
    "print(\"Estimated amplitudes of the solution:\", prob_amplitudes)\n",
    "\n",
    "plot_histogram(job_result[0].data.meas.get_counts())"
   ]
  },
  {
   "cell_type": "markdown",
   "id": "a599cc75",
   "metadata": {},
   "source": [
    "Una vez tenemos las amplitudes calculadas, podemos ver su distancia con el valor real del problema. Para poder compararlas, debemos hacer $\\frac{\\vec{x}}{||\\vec{x}||}$, sobre el diccionario de valores"
   ]
  },
  {
   "cell_type": "code",
   "execution_count": 22,
   "id": "80ba25f9",
   "metadata": {},
   "outputs": [
    {
     "name": "stdout",
     "output_type": "stream",
     "text": [
      "The difference is: [0.07902885 0.05102178 0.03805844 0.07486206]\n",
      "The norm of the diff is: 0.12610136144071446\n"
     ]
    }
   ],
   "source": [
    "ampl = prob_amplitudes/np.linalg.norm(prob_amplitudes)\n",
    "\n",
    "# Calculate the difference\n",
    "diff = np.abs(ampl-sol2)\n",
    "print(f'The difference is: {diff}')\n",
    "MSE = np.linalg.norm(diff)\n",
    "print(f'The norm of the diff is: {MSE}')"
   ]
  },
  {
   "cell_type": "markdown",
   "id": "8902f56f",
   "metadata": {},
   "source": [
    "Pruebas distintas de observables"
   ]
  },
  {
   "cell_type": "code",
   "execution_count": 23,
   "id": "82b37fe9",
   "metadata": {},
   "outputs": [
    {
     "name": "stdout",
     "output_type": "stream",
     "text": [
      "||x|| = 0.9737772781801801\n"
     ]
    }
   ],
   "source": [
    "from qiskit_aer.primitives import SamplerV2\n",
    "\n",
    "sim = AerSimulator()\n",
    "hhl_meas = hhl\n",
    "hhl_meas.measure_all()\n",
    "\n",
    "hhl_meas = transpile(hhl,sim)\n",
    "\n",
    "sampler = SamplerV2()\n",
    "shots = 8192\n",
    "\n",
    "job = sampler.run([hhl_meas],shots=shots)\n",
    "job_result = job.result()\n",
    "counts=job_result[0].data.meas.get_counts()\n",
    "filtered_counts = {k: v for k, v in counts.items() if k[0] == '1'}\n",
    "total_filtered_counts = sum(filtered_counts.values())\n",
    "norm_b = np.linalg.norm(vector)\n",
    "\n",
    "P1 = total_filtered_counts/shots\n",
    "eigs = np.linalg.eigvals(matrix)\n",
    "nl = hhl.qregs[1].size\n",
    "C = get_delta(nl,min(eigs),max(eigs))*2**nl\n",
    "c = 1\n",
    "\n",
    "norm_x = (P1/(C**2))**0.5\n",
    "\n",
    "print(f'||x|| = {norm_x}')\n"
   ]
  },
  {
   "cell_type": "markdown",
   "id": "c60561cb",
   "metadata": {},
   "source": [
    "---\n",
    "## Error de la solución\n",
    "\n",
    "Se tendrá que, siendo $\\vec{x}$ la solución del problema con el vector de lados derechos normalizada, $\\vec{x}'$ el vector resultante del problema, se tredrá que $\\vec{x}=\\frac{||\\vec{x}||\\cdot\\vec{x}'}{||\\vec{x}'||}$. Por lo tanto, utilizando el observable indicado en [2] además de los valores obtenidos, podremos obtener este valor."
   ]
  },
  {
   "cell_type": "code",
   "execution_count": 24,
   "id": "29bf9b4b",
   "metadata": {},
   "outputs": [
    {
     "data": {
      "text/plain": [
       "25.999999999999996"
      ]
     },
     "execution_count": 24,
     "metadata": {},
     "output_type": "execute_result"
    }
   ],
   "source": [
    "sol_e = np.linalg.solve(matrix,vector)\n",
    "np.linalg.norm(sol_e)**2"
   ]
  },
  {
   "cell_type": "markdown",
   "id": "e5b7f01d",
   "metadata": {},
   "source": [
    "El error daba errores, así que voy a pasar de ello un poco de momento\n",
    "\n",
    "---\n",
    "## Aproximación del vector de lados derechos por una serie de potencias"
   ]
  },
  {
   "cell_type": "code",
   "execution_count": 25,
   "id": "05000432",
   "metadata": {},
   "outputs": [
    {
     "name": "stdout",
     "output_type": "stream",
     "text": [
      "       ┌───┐                                                  \n",
      "q_0: ──┤ H ├────────────────■───────────────■──────────────■──\n",
      "       ├───┤                │               │              │  \n",
      "q_1: ──┤ H ├──────■─────────┼───────────────■──────────────■──\n",
      "     ┌─┴───┴─┐┌───┴────┐┌───┴───┐┌───────┐┌─┴─┐┌────────┐┌─┴─┐\n",
      "  a: ┤ Ry(2) ├┤ Ry(12) ├┤ Ry(4) ├┤ Ry(4) ├┤ X ├┤ Ry(-4) ├┤ X ├\n",
      "     └───────┘└────────┘└───────┘└───────┘└───┘└────────┘└───┘\n"
     ]
    },
    {
     "data": {
      "text/plain": [
       "array([0.42073549, 0.07056   , 0.3284933 , 0.21008352])"
      ]
     },
     "execution_count": 25,
     "metadata": {},
     "output_type": "execute_result"
    }
   ],
   "source": [
    "size = 2\n",
    "qr = QuantumRegister(size,name='q')\n",
    "qa = AncillaRegister(1,name=\"a\")\n",
    "qc = QuantumCircuit(qr,qa)\n",
    "\n",
    "for i in range(size):\n",
    "    qc.h(i)\n",
    "# p(x) = x^2 + x + 1\n",
    "\n",
    "qc.ry(2*1,qa)\n",
    "qc.cry(2*(4+2),qr[1],qa)\n",
    "qc.cry(2*(1+1),qr[0],qa)\n",
    "qc.mcry(2*4,qr[:],qa)\n",
    "\n",
    "#qc.initialize(vector/np.linalg.norm(vector),range(2),None)\n",
    "\n",
    "print(qc.draw())\n",
    "\n",
    "st = Statevector(qc)\n",
    "\n",
    "st.data.real[4:]"
   ]
  },
  {
   "cell_type": "code",
   "execution_count": 26,
   "id": "4774d1e4",
   "metadata": {},
   "outputs": [],
   "source": [
    "def parse_func(poly_str):\n",
    "    # Remove spaces\n",
    "    poly_str = poly_str.replace(' ', '')\n",
    "    \n",
    "    # Standardize the polynomial string to handle positive terms properly\n",
    "    poly_str = poly_str.replace('-', '+-')\n",
    "    if poly_str[0] == '+':\n",
    "        poly_str = poly_str[1:]\n",
    "    \n",
    "    # Split the string into terms\n",
    "    terms = poly_str.split('+')\n",
    "    \n",
    "    coefficients = {}\n",
    "    max_degree = 0\n",
    "    \n",
    "    for term in terms:\n",
    "        if 'x' in term:\n",
    "            if '^' in term:\n",
    "                coef, exp = term.split('x^')\n",
    "                exp = int(exp)\n",
    "            else:\n",
    "                coef, exp = term.split('x')\n",
    "                exp = 1\n",
    "            \n",
    "            if coef in ('', '+'):\n",
    "                coef = 1\n",
    "            elif coef == '-':\n",
    "                coef = -1\n",
    "            else:\n",
    "                coef = int(coef)\n",
    "        else:\n",
    "            coef = int(term)\n",
    "            exp = 0\n",
    "        \n",
    "        coefficients[exp] = coef\n",
    "        if exp > max_degree:\n",
    "            max_degree = exp\n",
    "    \n",
    "    # Fill missing degrees with 0\n",
    "    all_coefficients = [coefficients.get(i, 0) for i in range(max_degree + 1)]\n",
    "    return all_coefficients\n",
    "\n",
    "def value_func(coefs,nb):\n",
    "    \n",
    "    if not isinstance(coefs,np.ndarray):\n",
    "        coefs = np.array(coefs)\n",
    "    \n",
    "    size = 2**nb\n",
    "    \n",
    "    pol=[]\n",
    "    for i in range(size):\n",
    "        aux = 0\n",
    "        for j in range(1,len(coefs)):\n",
    "            aux +=coefs[j]*i**j\n",
    "        pol.append(aux)     \n",
    "    \n",
    "    return pol\n",
    "\n",
    "def b_state(nb: int,function: str,c: float = 1) -> QuantumCircuit:\n",
    "    \"\"\"Defines the b state from an approximation polynomic function\n",
    "    \n",
    "    Args:\n",
    "        `nb`: The number of qubits needed to represent the vector\n",
    "        `function`: A string representing the function. The style must be: 'ax^n+bx^n-1+...+z'. Where a,b,...,z are the amplitudes.\n",
    "        \n",
    "    \"\"\"\n",
    "    qr = QuantumRegister(nb,name=\"b\")\n",
    "    qa = AncillaRegister(1,name='a')\n",
    "    qc = QuantumCircuit(qr,qa)\n",
    "    \n",
    "    qc.h(qr[:])\n",
    "    \n",
    "    # Processing of `function`\n",
    "    ampl = parse_func(function)\n",
    "    \n",
    "    # Value of `function`\n",
    "    pol = value_func(ampl,nb)\n",
    "    \n",
    "    if ampl[0]!=0:\n",
    "        qc.ry(2*ampl[0]*c,qa)\n",
    "    \n",
    "    size = 2**nb\n",
    "    \n",
    "    for i in range(1,size):        \n",
    "        if (np.floor(np.log2(i))==np.ceil(np.log2(i))):\n",
    "            if pol[i]!=0:\n",
    "                qc.cry(2*pol[i]*c,qr[int(np.log2(i))],qa)\n",
    "        else:\n",
    "            bin_aux = bin(i)[2:]\n",
    "            index = [len(bin_aux) - 1 - j for j, digit in enumerate(bin_aux) if digit == '1' ]\n",
    "            # I dont remember why this 2**i, but it made sense in the moment i coded it\n",
    "            aux = [pol[2**i] for i in index]\n",
    "            elem = pol[i]-np.sum(aux)\n",
    "            if elem != 0:\n",
    "                qc.mcry(2*elem*c,index,qa)     \n",
    "    return qc"
   ]
  },
  {
   "cell_type": "code",
   "execution_count": 27,
   "id": "06b221e6",
   "metadata": {},
   "outputs": [
    {
     "data": {
      "image/png": "[encoded data removed]",
      "text/plain": [
       "<Figure size 371.107x284.278 with 1 Axes>"
      ]
     },
     "execution_count": 27,
     "metadata": {},
     "output_type": "execute_result"
    }
   ],
   "source": [
    "b = b_state(2,'x',1)\n",
    "b.draw('mpl')"
   ]
  },
  {
   "cell_type": "code",
   "execution_count": 28,
   "id": "d145f10c",
   "metadata": {},
   "outputs": [
    {
     "data": {
      "text/plain": [
       "array([0.        , 0.67483946, 0.72923464, 0.11317485])"
      ]
     },
     "execution_count": 28,
     "metadata": {},
     "output_type": "execute_result"
    }
   ],
   "source": [
    "b = b_state(2,'x',1)\n",
    "state = Statevector(b)\n",
    "state = state.data.real[4:]\n",
    "state/np.linalg.norm(state)"
   ]
  },
  {
   "cell_type": "code",
   "execution_count": 29,
   "id": "03775533",
   "metadata": {},
   "outputs": [
    {
     "data": {
      "image/png": "[encoded data removed]",
      "text/plain": [
       "<Figure size 371.107x284.278 with 1 Axes>"
      ]
     },
     "execution_count": 29,
     "metadata": {},
     "output_type": "execute_result"
    }
   ],
   "source": [
    "b.draw('mpl')"
   ]
  },
  {
   "cell_type": "code",
   "execution_count": 30,
   "id": "9d517d81",
   "metadata": {},
   "outputs": [
    {
     "name": "stdout",
     "output_type": "stream",
     "text": [
      "[0.         0.26726124 0.53452248 0.80178373]\n"
     ]
    }
   ],
   "source": [
    "arr = np.array([0,1/3,2/3,1])\n",
    "qc = QuantumCircuit(2)\n",
    "qc.initialize(arr/np.linalg.norm(arr))\n",
    "state = Statevector(qc)\n",
    "print(state.data.real)"
   ]
  },
  {
   "cell_type": "markdown",
   "id": "f2b72cc8",
   "metadata": {},
   "source": [
    "---\n",
    "## Number of gates study\n",
    "\n",
    "This is an experimental analysis of the number of gates based on the size of the problem. First we test it with the exact rotation, then with the Chebyshev approximation. We get the total number of gates, but one of the advantages of QC is that you can run multiple gates simultaneously. To have that into consideration, we can introduce a rescaling factor. Most times, you can perform 2 gates at the same time, so the scaling factor would be ($\\lambda=\\frac{1}{1.5}\\approx0.667$)\n",
    "\n",
    "- Exact rotation"
   ]
  },
  {
   "cell_type": "code",
   "execution_count": 31,
   "id": "7eb1b3d1",
   "metadata": {},
   "outputs": [],
   "source": [
    "# gates={}\n",
    "# for i in range(4):\n",
    "#     size = 2**(i+1)\n",
    "#     vector = np.array([1]*size)\n",
    "#     matrix = tridiag_matrix(2,-1,size)\n",
    "#     hhl,_ = build_circuit(matrix,vector,flag=True)\n",
    "#     count = hhl.decompose(reps=6).count_ops()\n",
    "#     tot_gates=-3\n",
    "#     for elem in count.items():\n",
    "#         tot_gates += elem[1]\n",
    "#     gates[size]=tot_gates\n",
    "#     print(f'Number of gates in circuit of size {size}: {tot_gates}')"
   ]
  },
  {
   "cell_type": "code",
   "execution_count": 32,
   "id": "f00144c9",
   "metadata": {},
   "outputs": [],
   "source": [
    "# import matplotlib.pyplot as plt\n",
    "\n",
    "# keys = list(gates.keys())\n",
    "# values = list(gates.values())\n",
    "\n",
    "# plt.figure(figsize=(10, 5))\n",
    "# plt.plot(keys, values, marker='o', linestyle='-', color='blue')\n",
    "# plt.xlabel('Size')\n",
    "# plt.ylabel('Gates')\n",
    "# plt.title('Line Plot of Dictionary')\n",
    "# plt.grid(True)\n",
    "# plt.show()"
   ]
  },
  {
   "cell_type": "markdown",
   "id": "b347c835",
   "metadata": {},
   "source": [
    "- Chebyshev piecewise function approximation"
   ]
  },
  {
   "cell_type": "code",
   "execution_count": 33,
   "id": "c6dcb6a4",
   "metadata": {},
   "outputs": [],
   "source": [
    "# gates_est={}\n",
    "# for i in range(4):\n",
    "#     size = 2**(i+1)\n",
    "#     vector = np.array([1]*size)\n",
    "#     matrix = tridiag_matrix(2,-1,size)\n",
    "#     hhl,_ = build_circuit(matrix,vector,flag=False)\n",
    "#     count = hhl.decompose(reps=6).count_ops()\n",
    "#     tot_gates=-3\n",
    "#     for elem in count.items():\n",
    "#         tot_gates += elem[1]\n",
    "#     gates_est[size]=tot_gates\n",
    "#     print(f'Number of gates in circuit of size {size}: {tot_gates}')"
   ]
  },
  {
   "cell_type": "code",
   "execution_count": 34,
   "id": "5ff0ffe4",
   "metadata": {},
   "outputs": [],
   "source": [
    "# keys = list(gates_est.keys())\n",
    "# values = list(gates_est.values())\n",
    "\n",
    "# plt.figure(figsize=(10, 5))\n",
    "# plt.plot(keys, values, marker='o', linestyle='-', color='red')\n",
    "# plt.xlabel('Size')\n",
    "# plt.ylabel('Gates')\n",
    "# plt.title('Line Plot of Dictionary')\n",
    "# plt.grid(True)\n",
    "# plt.show()"
   ]
  },
  {
   "cell_type": "code",
   "execution_count": 35,
   "id": "6f8402a1",
   "metadata": {},
   "outputs": [],
   "source": [
    "# import matplotlib.pyplot as plt\n",
    "\n",
    "# keys_1 = list(gates.keys())\n",
    "# values_1 = list(gates.values())\n",
    "# keys = list(gates_est.keys())\n",
    "# values = list(gates_est.values())\n",
    "\n",
    "# # plt.figure(figsize=(10, 7))\n",
    "\n",
    "# plt.plot(keys_1, values_1, marker='o', linestyle='-', color='blue')\n",
    "# plt.plot(keys, values, marker='o', linestyle='-', color='red')\n",
    "# plt.yscale('log')\n",
    "# plt.xlabel('Size')\n",
    "# plt.ylabel('Gates')\n",
    "# plt.title('Comparation in the number of needed gates')\n",
    "# plt.legend(['Exact Rotation','Chebyshev approximation'])\n",
    "# plt.grid(True)\n",
    "# plt.show()"
   ]
  },
  {
   "cell_type": "markdown",
   "id": "5757b89c",
   "metadata": {},
   "source": [
    "- Number of circuit actions"
   ]
  },
  {
   "cell_type": "code",
   "execution_count": 36,
   "id": "07032843",
   "metadata": {},
   "outputs": [],
   "source": [
    "# scaling = 1/1.5\n",
    "# # Time used in each gate (in nanoseconds)\n",
    "# time_gate= 30\n",
    "# aprox_time_exact = np.array(list(gates.values()))*scaling\n",
    "# aprox_time_est = np.array(list(gates_est.values()))*scaling\n",
    "# diff = aprox_time_est-aprox_time_exact\n",
    "# diff_rel = diff/aprox_time_est\n",
    "# np.set_printoptions(suppress=True)\n",
    "# print(f'The number of actions of the exact circuit: {aprox_time_exact}')\n",
    "# print(f'The number of actions of the approx circuit: {aprox_time_est}')\n",
    "# print(f'Time exact circuit: {time_gate*aprox_time_exact/1000}')\n",
    "# print(f'Time approx circuit: {time_gate*aprox_time_est/1000}')\n",
    "# print(f'Difference: {diff}')\n",
    "# print(f'Relative difference: {diff_rel}')\n",
    "# print(f'Approximate time difference: {time_gate*diff/1000} us')"
   ]
  },
  {
   "cell_type": "markdown",
   "id": "3097d2e2",
   "metadata": {},
   "source": [
    "---\n",
    "\n",
    "## Test using a hybrid approach\n",
    "\n",
    "We first have to slice the circuit into 3 different parts:\n",
    "1) The initialization and the QPE\n",
    "2) The eigenvalue inversion\n",
    "3) The QPE_dg\n",
    "\n",
    "Once we have the circuit divided into this three parts we can run them separately (no simultaneously) using different approaches:\n",
    "- The first and last circuits are run in a noisy simulator (probably with statevectors)\n",
    "- The second circuit is run in a real QPU (using shots)\n",
    "\n",
    "To do that, we first have to divide the circuit function into 3 parts so that:\n",
    "`\n",
    "qc1.append(qc2.append(qc3))\n",
    "`\n",
    "is the full circuit as we already have"
   ]
  },
  {
   "cell_type": "code",
   "execution_count": 37,
   "id": "6c8f019c",
   "metadata": {},
   "outputs": [],
   "source": [
    "# Function definition\n",
    "def init_and_qpe(vector,matrix,tolerance=10e-3):\n",
    "    # Define the tolerances of the circuit\n",
    "    epsilon_a = tolerance/6\n",
    "    epsilon_r = tolerance/3\n",
    "    epsilon_s = tolerance/3\n",
    "    \n",
    "    # We need an np.array to write the values to the register\n",
    "    if isinstance(vector,(list,np.ndarray)):\n",
    "        if isinstance(vector,list):\n",
    "            vector = np.array(vector)    \n",
    "        # We define the number of needed qubits and insert the vector to the register\n",
    "        nb = int(np.log2(len(vector)))\n",
    "        vector_circuit = QuantumCircuit(nb)\n",
    "        vector_circuit.initialize(vector / np.linalg.norm(vector), list(range(nb)), None)\n",
    "        # for i in range(nb):\n",
    "        #     vector_circuit.h(i)\n",
    "    else:\n",
    "        raise ValueError(f\"Invalid type for vector: {type(vector)}.\")\n",
    "    \n",
    "    # Define flag, if 1, correct solution, if 0, incorrect\n",
    "    nf = 1\n",
    "    \n",
    "    # Input the matrix A for the QPE\n",
    "    if isinstance(matrix, (list, np.ndarray)):\n",
    "        if isinstance(matrix, list):\n",
    "            matrix = np.array(matrix)\n",
    "\n",
    "        if matrix.shape[0] != matrix.shape[1]:\n",
    "            raise ValueError(\"Input matrix must be square!\")\n",
    "        \n",
    "        if np.log2(matrix.shape[0]) % 1 != 0:\n",
    "            raise ValueError(\"Input matrix dimension must be 2^n!\")\n",
    "        \n",
    "        if not np.allclose(matrix, matrix.conj().T):\n",
    "            raise ValueError(\"Input matrix must be hermitian!\")\n",
    "        \n",
    "        if matrix.shape[0] != 2 ** vector_circuit.num_qubits:\n",
    "            raise ValueError(\n",
    "                \"Input vector dimension does not match input \"\n",
    "                \"matrix dimension! Vector dimension: \"\n",
    "                + str(vector_circuit.num_qubits)\n",
    "                + \". Matrix dimension: \"\n",
    "                + str(matrix.shape[0])\n",
    "            )\n",
    "        # We default to a TridiagonalToeplitz matrix, but in a general case we would use a more general library\n",
    "        # Also, we want the evolution_time to be 2pi/\\landa_{max}, but we update it after, when we have the eigenvalues of the matrix\n",
    "        matrix_circuit = NumPyMatrix(matrix,evolution_time=2 * np.pi, tolerance=epsilon_a)\n",
    "        \n",
    "        # General case\n",
    "        # matrix_circuit = NumPyMatrix(matrix, evolution_time=2 * np.pi)\n",
    "        \n",
    "    else:\n",
    "        raise ValueError(f\"Invalid type for matrix: {type(matrix)}.\")\n",
    "    \n",
    "    # Define condition and eigenvalue bounds    \n",
    "    if (hasattr(matrix_circuit, \"condition_bounds\")):\n",
    "        kappa = matrix_circuit.condition_bounds()[1]\n",
    "    else:\n",
    "        kappa = 1\n",
    "    # Using kappa, the condition bound,  we define nl, the number of qubits needed to represent the eigenvalues\n",
    "    nl = max(nb+1,int(np.log2(kappa))+1)\n",
    "    # Construction of the circuit\n",
    "    \n",
    "    # Initialise the quantum registers\n",
    "    qb = QuantumRegister(nb,name=\"b\")  # right hand side and solution\n",
    "    ql = QuantumRegister(nl,name=\"0\")  # eigenvalue evaluation qubits\n",
    "    qf = QuantumRegister(nf,name=\"flag\")  # flag qubits\n",
    "    qc = QuantumCircuit(qb, ql, qf)\n",
    "\n",
    "    # State preparation\n",
    "    qc.append(vector_circuit, qb[:])\n",
    "    qc.barrier(label=\"\\pi_1\")\n",
    "    # QPE\n",
    "    phase_estimation = PhaseEstimation(nl, matrix_circuit)\n",
    "    qc.append(phase_estimation, ql[:] + qb[:])\n",
    "    return qc,nb,nl,matrix_circuit\n",
    "##########################################################################\n",
    "\n",
    "def eig_inverse(state,nb,nl,matrix_circuit):\n",
    "    \n",
    "    # Define condition and eigenvalue bounds    \n",
    "    if (hasattr(matrix_circuit, \"condition_bounds\")):\n",
    "        kappa = matrix_circuit.condition_bounds()[1]\n",
    "    else:\n",
    "        kappa = 1\n",
    "    # Using kappa, the condition bound,  we define nl, the number of qubits needed to represent the eigenvalues\n",
    "    nl = max(nb+1,int(np.log2(kappa))+1)\n",
    "    \n",
    "    # Define eigenvalues\n",
    "    if hasattr(matrix_circuit, \"eigs_bounds\"):\n",
    "        lambda_min, lambda_max = matrix_circuit.eigs_bounds()\n",
    "        \n",
    "        # Constant so that the minimum eigenvalue is represented exactly, since it contributes\n",
    "        # the most to the solution of the system\n",
    "        delta = get_delta(nl, lambda_min, lambda_max)\n",
    "        # Update evolution time\n",
    "        matrix_circuit.evolution_time = 2 * np.pi * delta / lambda_min\n",
    "        # Update the scaling of the solution\n",
    "        scaling = lambda_min\n",
    "    else:\n",
    "        delta = 1 / (2 ** nl)\n",
    "        print(\"The solution will be calculated up to a scaling factor.\")\n",
    "    \n",
    "        \n",
    "    # Define the reciprocal circuit\n",
    "    \n",
    "    # # Using an exact reciprocal circuit\n",
    "    \n",
    "    reciprocal_circuit = ExactReciprocal(nl, delta)\n",
    "    # Update number of ancilla qubits\n",
    "    na = matrix_circuit.num_ancillas\n",
    "    \n",
    "    # Construction of the circuit\n",
    "    \n",
    "    # Initialise the quantum registers\n",
    "    qb = QuantumRegister(nb,name=\"b\")  # right hand side and solution\n",
    "    ql = QuantumRegister(nl,name=\"0\")  # eigenvalue evaluation qubits\n",
    "    if na > 0:\n",
    "        qa = AncillaRegister(na,name=\"anc\")  # ancilla qubits\n",
    "    qf = QuantumRegister(1,name=\"flag\")  # flag qubits\n",
    "\n",
    "    if na > 0:\n",
    "        qc = QuantumCircuit(qb, ql, qa, qf)\n",
    "    else:\n",
    "        qc = QuantumCircuit(qb, ql, qf)\n",
    "\n",
    "    # State preparation\n",
    "    qc.initialize(state)\n",
    "    # Conditioned rotation\n",
    "    qc.append(reciprocal_circuit, ql[::-1] + [qf[0]])\n",
    "    \n",
    "    return qc,scaling\n",
    "\n",
    "##########################################################################\n",
    "\n",
    "def inverse_qpe(state,nb,nl,matrix_circuit):\n",
    "       \n",
    "    # Initialise the quantum registers\n",
    "    qb = QuantumRegister(nb,name=\"b\")  # right hand side and solution\n",
    "    ql = QuantumRegister(nl,name=\"0\")  # eigenvalue evaluation qubits\n",
    "    qf = QuantumRegister(1,name=\"flag\")  # flag qubits\n",
    "    qc = QuantumCircuit(qb, ql, qf)\n",
    "\n",
    "    # State preparation\n",
    "    qc.initialize(state)\n",
    "    # QPE inverse\n",
    "    phase_estimation = PhaseEstimation(nl, matrix_circuit)\n",
    "    qc.append(phase_estimation.inverse(), ql[:] + qb[:])\n",
    "\n",
    "    return qc"
   ]
  },
  {
   "cell_type": "code",
   "execution_count": 105,
   "id": "22ab8916",
   "metadata": {},
   "outputs": [
    {
     "name": "stdout",
     "output_type": "stream",
     "text": [
      "[0.37728756 0.59804189 0.59804189 0.37728756]\n"
     ]
    }
   ],
   "source": [
    "vector = np.array([1]*4)\n",
    "matrix = tridiag_matrix(2,-1,4)\n",
    "qc1,nb,nl,mt_circ=init_and_qpe(vector,matrix)\n",
    "state = Statevector(qc1)\n",
    "qc2,_ = eig_inverse(state,nb,nl,mt_circ)\n",
    "state2 = Statevector(qc2)\n",
    "test = np.abs(state2)\n",
    "qc3 = inverse_qpe(state2,nb,nl,mt_circ)\n",
    "state_f = solution(qc3)\n",
    "print(state_f)"
   ]
  },
  {
   "cell_type": "code",
   "execution_count": 51,
   "id": "bd083788",
   "metadata": {},
   "outputs": [
    {
     "name": "stdout",
     "output_type": "stream",
     "text": [
      "[0.39223227 0.58834841 0.58834841 0.39223227]\n"
     ]
    }
   ],
   "source": [
    "prb = np.linalg.solve(matrix,vector)\n",
    "print(prb/np.linalg.norm(prb))"
   ]
  },
  {
   "cell_type": "markdown",
   "id": "238f968b",
   "metadata": {},
   "source": [
    "As we can see, the solution is mostly the same except the accuracy of the initilization. Now we can begin testing in doing this analyzing the shots in the simulation. If we can achieve this, then we can use this approach in real hardware, described in the next section "
   ]
  },
  {
   "cell_type": "code",
   "execution_count": 128,
   "id": "4ef2bc15",
   "metadata": {},
   "outputs": [],
   "source": [
    "def ampl_from_sim(qc,shots=8192):\n",
    "    sim = AerSimulator()\n",
    "    qc.measure_all()\n",
    "    qc = transpile(qc,sim)\n",
    "    sampler = SamplerV2()\n",
    "\n",
    "    job = sampler.run([qc],shots=shots)\n",
    "    job_result = job.result()\n",
    "    counts=job_result[0].data.meas.get_counts()\n",
    "\n",
    "    all_outcomes = [''.join(outcome) for outcome in product('01', repeat=nb+nl+1)]\n",
    "\n",
    "    prob = []\n",
    "    for elem in all_outcomes:\n",
    "        if elem in counts:\n",
    "            prob.append(counts[elem]/shots)\n",
    "        else:\n",
    "            prob.append(0)\n",
    "    prob = np.array(prob)\n",
    "    prob = np.sqrt(prob)\n",
    "    return prob"
   ]
  },
  {
   "cell_type": "code",
   "execution_count": 130,
   "id": "425e4aa1",
   "metadata": {},
   "outputs": [
    {
     "data": {
      "text/plain": [
       "array([0.39814144, 0.5900437 , 0.58504714, 0.38865368])"
      ]
     },
     "execution_count": 130,
     "metadata": {},
     "output_type": "execute_result"
    }
   ],
   "source": [
    "prob = ampl_from_sim(qc2,10000000)\n",
    "qc3 = inverse_qpe(prob,nb,nl,mt_circ)\n",
    "state_f = solution(qc3)\n",
    "state_f"
   ]
  },
  {
   "cell_type": "markdown",
   "id": "1e731074",
   "metadata": {},
   "source": [
    "If we use shots during the eigenvalue rotation the solution is an estimation based on the probabilities. If we increase the number of shots we should get the true answer. In fact, if the number of shots is defined by $n$ and the approximate and real solution are defined by $|\\hat{x}\\rangle$ and $|x\\rangle$ respectively, then if $n\\rightarrow\\infty \\implies |\\hat{x}\\rangle=|x\\rangle$.\n",
    "\n",
    "We know in the real Qmio we can use at most 8192 shots. Then, to have a better calculation, we can repeat the inversion multiple times and then average the number of occurrences to get a better estimate."
   ]
  },
  {
   "cell_type": "code",
   "execution_count": 171,
   "id": "9e8cf015",
   "metadata": {},
   "outputs": [],
   "source": [
    "# WIP\n",
    "def ampl_from_qmio(qc,reps=1):\n",
    "    sim = AerSimulator()\n",
    "    qc.measure_all()\n",
    "    qc = transpile(qc,sim)\n",
    "    sampler = SamplerV2()\n",
    "    shots = 8192\n",
    "\n",
    "    job = sampler.run([qc],shots=shots)\n",
    "    job_result = job.result()\n",
    "    counts=job_result[0].data.meas.get_counts()\n",
    "\n",
    "    all_outcomes = [''.join(outcome) for outcome in product('01', repeat=nb+nl+1)]\n",
    "\n",
    "    prob = []\n",
    "    for elem in all_outcomes:\n",
    "        if elem in counts:\n",
    "            prob.append(counts[elem]/shots)\n",
    "        else:\n",
    "            prob.append(0)\n",
    "    prob = np.array(prob)\n",
    "    prob = np.sqrt(prob)\n",
    "    return prob"
   ]
  },
  {
   "cell_type": "markdown",
   "id": "a142c759",
   "metadata": {},
   "source": [
    "---\n",
    "\n",
    "## Test using Qmio\n",
    "\n",
    "To use this, because of the dependencies of ZMQServer, you must be logged in the CESGA network"
   ]
  },
  {
   "cell_type": "code",
   "execution_count": null,
   "id": "96bd2ab6",
   "metadata": {},
   "outputs": [],
   "source": []
  }
 ],
 "metadata": {
  "kernelspec": {
   "display_name": "Python 3 (ipykernel)",
   "language": "python",
   "name": "python3"
  },
  "language_info": {
   "codemirror_mode": {
    "name": "ipython",
    "version": 3
   },
   "file_extension": ".py",
   "mimetype": "text/x-python",
   "name": "python",
   "nbconvert_exporter": "python",
   "pygments_lexer": "ipython3",
   "version": "3.10.0"
  }
 },
 "nbformat": 4,
 "nbformat_minor": 5
}
