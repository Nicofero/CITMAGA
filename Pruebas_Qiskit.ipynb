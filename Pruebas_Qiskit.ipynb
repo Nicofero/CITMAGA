{
 "cells": [
  {
   "cell_type": "markdown",
   "id": "01a50a8d",
   "metadata": {},
   "source": [
    "# Qiskit tests\n",
    "## Creation of a circuit that implements HHL for Toeplitz symmetrical tridiagonal matrix \n",
    "\n",
    "This notebook is based in 2 papers:\n",
    "\n",
    "- [1] : Harrow, A. W., Hassidim, A., Lloyd, S. (2009). Quantum algorithm for linear systems of equations. Phys. Rev. Lett. 103, 15 (2009), 1–15. <https://doi.org/10.1103/PhysRevLett.103.150502>\n",
    "- [2] : Carrera Vazquez, A., Hiptmair, R., & Woerner, S. (2020). Enhancing the Quantum Linear Systems Algorithm using Richardson Extrapolation.arXiv:2009.04484 <http://arxiv.org/abs/2009.04484>`\n",
    "\n",
    "The code is mostly based in the original code for the HHL solver in Qiskit-Algorithms"
   ]
  },
  {
   "cell_type": "code",
   "execution_count": 156,
   "id": "0f2d3f9b",
   "metadata": {},
   "outputs": [],
   "source": [
    "import numpy as np\n",
    "from typing import Optional\n",
    "from qiskit import QuantumCircuit, QuantumRegister, AncillaRegister, transpile\n",
    "from qiskit.circuit.library import PhaseEstimation\n",
    "from qiskit.circuit.library.arithmetic.piecewise_chebyshev import PiecewiseChebyshev  \n",
    "from qiskit.circuit.library.arithmetic.exact_reciprocal import ExactReciprocal\n",
    "from numpy_matrix import NumPyMatrix\n",
    "from qiskit.quantum_info import Statevector\n",
    "from qiskit_aer import AerSimulator"
   ]
  },
  {
   "cell_type": "markdown",
   "id": "2754f96c",
   "metadata": {},
   "source": [
    "1. Build circuit\n",
    "2. Build observables [2]"
   ]
  },
  {
   "cell_type": "code",
   "execution_count": 157,
   "id": "ae05a5ec",
   "metadata": {},
   "outputs": [],
   "source": [
    "def get_delta(n_l: int, lambda_min: float, lambda_max: float) -> float:\n",
    "    \"\"\"Calculates the scaling factor to represent exactly lambda_min on nl binary digits.\n",
    "\n",
    "    Args:\n",
    "        n_l: The number of qubits to represent the eigenvalues.\n",
    "        lambda_min: the smallest eigenvalue.\n",
    "        lambda_max: the largest eigenvalue.\n",
    "\n",
    "    Returns:\n",
    "        The value of the scaling factor.\n",
    "    \"\"\"\n",
    "    formatstr = \"#0\" + str(n_l + 2) + \"b\"\n",
    "    lambda_min_tilde = np.abs(lambda_min * (2 ** n_l - 1) / lambda_max)\n",
    "    # floating point precision can cause problems\n",
    "    if np.abs(lambda_min_tilde - 1) < 1e-7:\n",
    "        lambda_min_tilde = 1\n",
    "    binstr = format(int(lambda_min_tilde), formatstr)[2::]\n",
    "    lamb_min_rep = 0\n",
    "    for i, char in enumerate(binstr):\n",
    "        lamb_min_rep += int(char) / (2 ** (i + 1))\n",
    "    return lamb_min_rep\n"
   ]
  },
  {
   "cell_type": "code",
   "execution_count": 158,
   "id": "b12c267c",
   "metadata": {},
   "outputs": [],
   "source": [
    "#Function to build the HHL circuit\n",
    "def build_circuit(matrix, vector, tolerance: float, flag: bool):\n",
    "    \"\"\"\n",
    "    Builds the HHL circuit using the required args\n",
    "    \n",
    "    Args:\n",
    "        `matrix`: The matrix that defines the linear system, i.e. A in Ax = b.\n",
    "        `vector`: The right-hand side of the equation, i.e. b in Ax = b.\n",
    "        `tolerance`: Tolerance of the solution bounds. This value is used to define the 3 tolerances needed for the HHL [2] equation (62).\n",
    "        `flag`: Flag deciding whether the reciprocal circuit is or not exact\n",
    "        \n",
    "    Returns:\n",
    "        The HHL circuit\n",
    "    \n",
    "    Raises:\n",
    "        ValueError: If the data is not in the right format\n",
    "        ValueError: The matrix dimension is not correct\n",
    "    \"\"\"\n",
    "    \n",
    "    # Define the tolerances of the circuit\n",
    "    epsilon_a = tolerance/6\n",
    "    epsilon_r = tolerance/3\n",
    "    epsilon_s = tolerance/3\n",
    "    \n",
    "    # We need an np.array to write the values to the register\n",
    "    if isinstance(vector,(list,np.ndarray)):\n",
    "        if isinstance(vector,list):\n",
    "            vector = np.array(vector)    \n",
    "        # We define the number of needed qubits and insert the vector to the register\n",
    "        nb = int(np.log2(len(vector)))\n",
    "        vector_circuit = QuantumCircuit(nb)\n",
    "        vector_circuit.initialize(vector / np.linalg.norm(vector), list(range(nb)), None)\n",
    "    else:\n",
    "        raise ValueError(f\"Invalid type for vector: {type(vector)}.\")\n",
    "    # Number of flags, dont know if needed\n",
    "    nf = 1\n",
    "    \n",
    "    # Input the matrix A for the QPE\n",
    "    if isinstance(matrix, (list, np.ndarray)):\n",
    "        if isinstance(matrix, list):\n",
    "            matrix = np.array(matrix)\n",
    "\n",
    "        if matrix.shape[0] != matrix.shape[1]:\n",
    "            raise ValueError(\"Input matrix must be square!\")\n",
    "        \n",
    "        if np.log2(matrix.shape[0]) % 1 != 0:\n",
    "            raise ValueError(\"Input matrix dimension must be 2^n!\")\n",
    "        \n",
    "        if not np.allclose(matrix, matrix.conj().T):\n",
    "            raise ValueError(\"Input matrix must be hermitian!\")\n",
    "        \n",
    "        if matrix.shape[0] != 2 ** vector_circuit.num_qubits:\n",
    "            raise ValueError(\n",
    "                \"Input vector dimension does not match input \"\n",
    "                \"matrix dimension! Vector dimension: \"\n",
    "                + str(vector_circuit.num_qubits)\n",
    "                + \". Matrix dimension: \"\n",
    "                + str(matrix.shape[0])\n",
    "            )\n",
    "        # We default to a TridiagonalToeplitz matrix, but in a general case we would use a more general library\n",
    "        # Also, we want the evolution_time to be 2pi/\\landa_{max}, but we update it after, when we have the eigenvalues of the matrix\n",
    "        matrix_circuit = NumPyMatrix(matrix,evolution_time=2 * np.pi, tolerance=epsilon_a)\n",
    "        \n",
    "        # General case\n",
    "        # matrix_circuit = NumPyMatrix(matrix, evolution_time=2 * np.pi)\n",
    "        \n",
    "    else:\n",
    "        raise ValueError(f\"Invalid type for matrix: {type(matrix)}.\")\n",
    "    \n",
    "    # Define condition and eigenvalue bounds    \n",
    "    if (hasattr(matrix_circuit, \"condition_bounds\")):\n",
    "        kappa = matrix_circuit.condition_bounds()[1]\n",
    "    else:\n",
    "        kappa = 1\n",
    "        \n",
    "    # Using kappa, the condition bound,  we define nl, the number of qubits needed to represent the eigenvalues\n",
    "    nl = max(nb+1,int(np.log2(kappa))+1)\n",
    "    \n",
    "    # Define eigenvalues\n",
    "    if hasattr(matrix_circuit, \"eigs_bounds\"):\n",
    "        lambda_min, lambda_max = matrix_circuit.eigs_bounds()\n",
    "        # Constant so that the minimum eigenvalue is represented exactly, since it contributes\n",
    "        # the most to the solution of the system\n",
    "        delta = get_delta(nl, lambda_min, lambda_max)\n",
    "        # Update evolution time\n",
    "        matrix_circuit.evolution_time = 2 * np.pi * delta / lambda_min\n",
    "        # Update the scaling of the solution\n",
    "        scaling = lambda_min\n",
    "    else:\n",
    "        delta = 1 / (2 ** nl)\n",
    "        print(\"The solution will be calculated up to a scaling factor.\")\n",
    "    \n",
    "        \n",
    "    # Define the reciprocal circuit\n",
    "    \n",
    "    # # Using an exact reciprocal circuit\n",
    "    if flag:\n",
    "        reciprocal_circuit = ExactReciprocal(nl, delta)\n",
    "        # Update number of ancilla qubits\n",
    "        na = matrix_circuit.num_ancillas\n",
    "    \n",
    "    # Using Chebyshev interpolation to approximate arcsin(C/x) to a degree of degree\n",
    "    else: \n",
    "        # Calculate breakpoints for the reciprocal approximation\n",
    "        num_values = 2 ** nl\n",
    "        constant = delta\n",
    "        # a as [2] indicates\n",
    "        \n",
    "        # No tengo para nada claro esto, no encuentro que hay que hacer con la a para pasarla a entero\n",
    "        a = int(2**(2*nl/3))  # pylint: disable=invalid-name\n",
    "\n",
    "        # Calculate the degree of the polynomial and the number of intervals\n",
    "        r = 2 * constant / a + np.sqrt(np.abs(1 - (2 * constant / a) ** 2))\n",
    "        degree = min(nb,int(np.log(1+(16.23* np.sqrt(np.log(r) ** 2 + (np.pi / 2) ** 2)* kappa* (2 * kappa - epsilon_r))/ epsilon_r)),)\n",
    "        # As [2]\n",
    "        num_intervals = int(np.ceil(np.log((num_values - 1) / a) / np.log(5)))\n",
    "\n",
    "        # Calculate breakpoints and polynomials\n",
    "        breakpoints = []\n",
    "        for i in range(0, num_intervals):\n",
    "            # Add the breakpoint to the list\n",
    "            breakpoints.append(a * (5 ** i))\n",
    "\n",
    "            # Define the right breakpoint of the interval\n",
    "            if i == num_intervals - 1:\n",
    "                breakpoints.append(num_values - 1)\n",
    "        # Once we have the intervals, and everything is defined, we can make an approximation by a polynomial function of degree\n",
    "        reciprocal_circuit = PiecewiseChebyshev(\n",
    "            lambda x: np.arcsin(constant / x), degree, breakpoints, nl, name=\"c_Rot\"\n",
    "        )\n",
    "        # Number of ancilla qubits\n",
    "        na = max(matrix_circuit.num_ancillas, reciprocal_circuit.num_ancillas)\n",
    "        \n",
    "    # Construction of the circuit\n",
    "    \n",
    "    # Define registers\n",
    "    qb = QuantumRegister(nb,name=\"b\")\n",
    "    ql = QuantumRegister(nl,name=\"0\")\n",
    "    qf = QuantumRegister(nf,name=\"flag\")\n",
    "    if na > 0:\n",
    "        qa = AncillaRegister(na,name=\"anc\")\n",
    "        qc = QuantumCircuit(qb,ql,qa,qf)\n",
    "    else:\n",
    "        qc = QuantumCircuit(qb,ql,qf)\n",
    "    \n",
    "    # State preparation\n",
    "    # Vector initialization\n",
    "    qc.append(vector_circuit,qb[:])\n",
    "    qc.barrier(label=\"\\u03C0_1\")\n",
    "    # QPE\n",
    "    phase_estimation = PhaseEstimation(nl,matrix_circuit)\n",
    "    if na > 0:\n",
    "        qc.append(phase_estimation, ql[:] + qb[:] + qa[: matrix_circuit.num_ancillas])\n",
    "    else:\n",
    "        qc.append(phase_estimation, ql[:] + qb[:])\n",
    "    qc.barrier(label=\"\\u03C0_2\")\n",
    "    #Conditioned rotation\n",
    "    if na > 0:\n",
    "        qc.append(reciprocal_circuit.to_instruction(),ql[:] + [qf[0]] + qa[: reciprocal_circuit.num_ancillas])\n",
    "    else:        \n",
    "        qc.append(reciprocal_circuit.to_instruction(),ql[:] + [qf[0]])\n",
    "    qc.barrier(label=\"\\u03C0_3\")\n",
    "    #QPE^{\\dagger}\n",
    "    if na > 0:\n",
    "        qc.append(phase_estimation.inverse(), ql[:] + qb[:] + qa[: matrix_circuit.num_ancillas])\n",
    "    else:\n",
    "        qc.append(phase_estimation.inverse(), ql[:] + qb[:])\n",
    "        \n",
    "    return qc"
   ]
  },
  {
   "cell_type": "code",
   "execution_count": 159,
   "id": "f3da5a67",
   "metadata": {},
   "outputs": [],
   "source": [
    "# Calc observables\n",
    "def calc_observables(qc: QuantumCircuit, observable: Optional[int] = 3):\n",
    "    \"\"\"Calculates the value of the observable(s) given.\n",
    "\n",
    "        Args:\n",
    "            `qc`: The quantum circuit preparing the solution x to the system.\n",
    "            # TODO\n",
    "            # Not yet implemented\n",
    "            `observable`: Information to be extracted from the solution. 1 - ||x'||, 2 - F_b(x), 3 - Average solution\n",
    "            `post_processing`: Function to compute the value of the observable.\n",
    "\n",
    "        Returns:\n",
    "            The value of the observable(s) and the circuit results before post-processing as a tuple.\n",
    "        \"\"\"\n",
    "    nb = qc.qregs[0].size\n",
    "    nl = qc.qregs[1].size\n",
    "    na = qc.num_ancillas\n",
    "    \n",
    "    \n",
    "    \n",
    "    return solution"
   ]
  },
  {
   "cell_type": "code",
   "execution_count": 160,
   "id": "d291d158",
   "metadata": {},
   "outputs": [],
   "source": [
    "# Solve circuit\n",
    "def solve(qc: QuantumCircuit):\n",
    "    \n",
    "    return solution"
   ]
  },
  {
   "cell_type": "code",
   "execution_count": 302,
   "id": "29daaf9e",
   "metadata": {},
   "outputs": [],
   "source": [
    "def tridiag_matrix(diag,up,n) -> np.ndarray:\n",
    "    \"\"\"Returns a tridiagonal symmetrical matrix\n",
    "    \n",
    "    Args:\n",
    "        `diag`: Value of the diagonal\n",
    "        `up`: Value of the subdiagonals\n",
    "        `n`: Size of the matrix\n",
    "    \n",
    "    Returns:\n",
    "        The matrix\n",
    "    \"\"\"\n",
    "    if n<2: \n",
    "        raise ValueError(\"The dimension of the matrix must be greater than 2\")\n",
    "    \n",
    "    rows = []\n",
    "    \n",
    "    for i in range(n):\n",
    "        row = np.zeros(n)\n",
    "        if i>0:\n",
    "            row[i-1]=up\n",
    "        row[i]=diag\n",
    "        if i<n-1:\n",
    "            row[i+1]=up\n",
    "            \n",
    "        rows.append(row)\n",
    "        \n",
    "    matrix = np.array(rows)\n",
    "    return matrix"
   ]
  },
  {
   "cell_type": "code",
   "execution_count": 306,
   "id": "3fb81b9d",
   "metadata": {},
   "outputs": [
    {
     "data": {
      "text/plain": [
       "array([[1., 2.],\n",
       "       [2., 1.]])"
      ]
     },
     "execution_count": 306,
     "metadata": {},
     "output_type": "execute_result"
    }
   ],
   "source": [
    "tridiag_matrix(1,2,2)"
   ]
  },
  {
   "cell_type": "markdown",
   "id": "86362a87",
   "metadata": {},
   "source": [
    "### Celda de pruebas"
   ]
  },
  {
   "cell_type": "code",
   "execution_count": 296,
   "id": "bec8f818",
   "metadata": {},
   "outputs": [
    {
     "data": {
      "image/png": "[encoded data removed]",
      "text/plain": [
       "<Figure size 890.399x367.889 with 1 Axes>"
      ]
     },
     "execution_count": 296,
     "metadata": {},
     "output_type": "execute_result"
    }
   ],
   "source": [
    "vector = np.array([1,0])\n",
    "matrix = np.array([[1,-1/3],[-1/3,1]])\n",
    "\n",
    "hhl = build_circuit(matrix,vector,10e-2,True)\n",
    "hhl.draw('mpl')\n"
   ]
  },
  {
   "cell_type": "code",
   "execution_count": null,
   "id": "52bae72e",
   "metadata": {},
   "outputs": [
    {
     "data": {
      "image/png": "[encoded data removed]",
      "text/plain": [
       "<Figure size 974.01x535.111 with 1 Axes>"
      ]
     },
     "metadata": {},
     "output_type": "display_data"
    }
   ],
   "source": [
    "vector = np.array([1,0,1,0])\n",
    "matrix = np.array([[1,-1/3,0,0],[-1/3,1,-1/3,0],[0,-1/3,1,-1/3],[0,0,-1/3,1]])\n",
    "\n",
    "hhl = build_circuit(matrix,vector,10e-2,True)\n",
    "hhl.draw('mpl')\n"
   ]
  },
  {
   "cell_type": "markdown",
   "id": "efdf3076",
   "metadata": {},
   "source": [
    "-----\n",
    "We can test the circuit using statevectors"
   ]
  },
  {
   "cell_type": "code",
   "execution_count": 298,
   "id": "518b9944",
   "metadata": {},
   "outputs": [
    {
     "data": {
      "text/plain": [
       "array([0.9486833 , 0.31622777])"
      ]
     },
     "execution_count": 298,
     "metadata": {},
     "output_type": "execute_result"
    }
   ],
   "source": [
    "statevector = Statevector(hhl)\n",
    "st=np.array(statevector)\n",
    "num = int(len(st)/2)\n",
    "sol = np.abs(np.array([st[num],st[(num+1)]]))\n",
    "sol / np.linalg.norm(sol)"
   ]
  },
  {
   "cell_type": "markdown",
   "id": "fcc4888e",
   "metadata": {},
   "source": [
    "Exact solution"
   ]
  },
  {
   "cell_type": "code",
   "execution_count": 299,
   "id": "e5dc37f6",
   "metadata": {},
   "outputs": [
    {
     "data": {
      "text/plain": [
       "array([0.9486833 , 0.31622777])"
      ]
     },
     "execution_count": 299,
     "metadata": {},
     "output_type": "execute_result"
    }
   ],
   "source": [
    "sol=np.linalg.solve(matrix,vector/np.linalg.norm(vector))\n",
    "sol/np.linalg.norm(sol)\n",
    "norm=np.sqrt(sum(sol**2))\n",
    "\n",
    "sol/norm"
   ]
  },
  {
   "cell_type": "markdown",
   "id": "5ad02a9d",
   "metadata": {},
   "source": [
    "If we have a 2-dimensional vector, the solution with statevectors is exact (we only have one qubit for $b$). But as we increase the dimension, the solution worsens"
   ]
  },
  {
   "cell_type": "markdown",
   "id": "75e8d99b",
   "metadata": {},
   "source": [
    "-----\n",
    "## Prueba con shots\n",
    "\n",
    "Exact solution"
   ]
  },
  {
   "cell_type": "code",
   "execution_count": 279,
   "id": "3ef9fb28",
   "metadata": {},
   "outputs": [
    {
     "data": {
      "text/plain": [
       "array([0.9486833 , 0.31622777])"
      ]
     },
     "execution_count": 279,
     "metadata": {},
     "output_type": "execute_result"
    }
   ],
   "source": [
    "sol=np.linalg.solve(matrix,vector/np.linalg.norm(vector))\n",
    "sol/np.linalg.norm(sol)\n",
    "norm=np.sqrt(sum(sol**2))\n",
    "\n",
    "sol/norm"
   ]
  },
  {
   "cell_type": "markdown",
   "id": "5dbd2056",
   "metadata": {},
   "source": [
    "Solucion cuantica"
   ]
  },
  {
   "cell_type": "code",
   "execution_count": 280,
   "id": "0a86a4dd",
   "metadata": {},
   "outputs": [
    {
     "name": "stdout",
     "output_type": "stream",
     "text": [
      "Counts for circuit : {'100001': 27, '000001': 31, '000000': 37, '100000': 33}\n",
      "Real: 0.9486832980505138|0> + 0.31622776601683794|1>\n",
      "Filtered Counts: {'100001': 27, '100000': 33}\n",
      "Conditional Probabilities of the First Qubit: {'0': 0.55, '1': 0.45}\n",
      "Probability of 1: 0.46875\n"
     ]
    }
   ],
   "source": [
    "from qiskit_aer.primitives import SamplerV2\n",
    "\n",
    "sim = AerSimulator()\n",
    "hhl_meas = hhl\n",
    "hhl_meas.measure_all()\n",
    "\n",
    "hhl_meas = transpile(hhl,sim)\n",
    "\n",
    "sampler = SamplerV2()\n",
    "\n",
    "job = sampler.run([hhl_meas],shots=128)\n",
    "job_result = job.result()\n",
    "print(f\"Counts for circuit : {job_result[0].data.meas.get_counts()}\")\n",
    "print(f\"Real: {3/np.sqrt(10)}|0> + {1/np.sqrt(10)}|1>\")\n",
    "\n",
    "filtered_counts = {k: v for k, v in job_result[0].data.meas.get_counts().items() if k[0] == '1'}\n",
    "total_filtered_counts = sum(filtered_counts.values())\n",
    "prob_amplitudes = { '0': 0, '1': 0 }\n",
    "\n",
    "for outcome, count in filtered_counts.items():\n",
    "    first_qubit_state = outcome[-1]  # Get the state of the first qubit\n",
    "    prob_amplitudes[first_qubit_state] += count / total_filtered_counts\n",
    "    \n",
    "    \n",
    "\n",
    "print(\"Filtered Counts:\", filtered_counts)\n",
    "print(\"Conditional Probabilities of the First Qubit:\", prob_amplitudes)\n",
    "print(f\"Probability of 1: {total_filtered_counts/128}\")"
   ]
  },
  {
   "cell_type": "markdown",
   "id": "ebdaa0bd",
   "metadata": {},
   "source": [
    "-----\n",
    "## Comprobacion de que se meta bien $b$"
   ]
  },
  {
   "cell_type": "code",
   "execution_count": 167,
   "id": "b357bb17",
   "metadata": {},
   "outputs": [],
   "source": [
    "def vec_circ(vector: np.ndarray) -> QuantumCircuit:\n",
    "    \n",
    "    nb = int(np.log2(len(vector)))\n",
    "    vector_circuit = QuantumCircuit(nb,name=\"kachow\")\n",
    "    vector_circuit.initialize(vector / np.linalg.norm(vector), list(range(nb)), None)\n",
    "    \n",
    "    return vector_circuit"
   ]
  },
  {
   "cell_type": "code",
   "execution_count": 168,
   "id": "35b0c9c5",
   "metadata": {},
   "outputs": [
    {
     "data": {
      "image/png": "[encoded data removed]",
      "text/plain": [
       "<Figure size 454.719x284.278 with 1 Axes>"
      ]
     },
     "execution_count": 168,
     "metadata": {},
     "output_type": "execute_result"
    }
   ],
   "source": [
    "qc=vec_circ(np.array([1,0,1,1,0.5,1,1,1]))\n",
    "qc.draw('mpl')"
   ]
  },
  {
   "cell_type": "markdown",
   "id": "c60561cb",
   "metadata": {},
   "source": [
    "### Se mete bien, seguimos con otras comprobaciones\n",
    "----\n"
   ]
  },
  {
   "cell_type": "code",
   "execution_count": 169,
   "id": "fa530145",
   "metadata": {},
   "outputs": [
    {
     "data": {
      "image/png": "[encoded data removed]",
      "text/plain": [
       "<Figure size 323.948x117.056 with 1 Axes>"
      ]
     },
     "execution_count": 169,
     "metadata": {},
     "output_type": "execute_result"
    }
   ],
   "source": [
    "matrix = np.array([[1,0],[0,1]])\n",
    "matrix_circuit = NumPyMatrix(matrix,evolution_time=2 * np.pi, tolerance=10e-5)\n",
    "matrix_circuit.draw('mpl')"
   ]
  },
  {
   "cell_type": "code",
   "execution_count": 194,
   "id": "f9e97980",
   "metadata": {},
   "outputs": [
    {
     "name": "stdout",
     "output_type": "stream",
     "text": [
      "{'001': 1000}\n"
     ]
    }
   ],
   "source": [
    "qc = QuantumCircuit(3)\n",
    "qc.x(0)\n",
    "\n",
    "qc.measure_all()\n",
    "qc = transpile(qc,sim)\n",
    "\n",
    "sim = AerSimulator()\n",
    "sampler = SamplerV2()\n",
    "\n",
    "result = sampler.run([qc],shots=1000)\n",
    "result = result.result()\n",
    "\n",
    "print(result[0].data.meas.get_counts())"
   ]
  },
  {
   "cell_type": "code",
   "execution_count": null,
   "id": "b46e2f57",
   "metadata": {},
   "outputs": [],
   "source": []
  },
  {
   "cell_type": "code",
   "execution_count": null,
   "id": "00d3fa44",
   "metadata": {},
   "outputs": [],
   "source": []
  }
 ],
 "metadata": {
  "kernelspec": {
   "display_name": "Python 3 (ipykernel)",
   "language": "python",
   "name": "python3"
  },
  "language_info": {
   "codemirror_mode": {
    "name": "ipython",
    "version": 3
   },
   "file_extension": ".py",
   "mimetype": "text/x-python",
   "name": "python",
   "nbconvert_exporter": "python",
   "pygments_lexer": "ipython3",
   "version": "3.10.0"
  }
 },
 "nbformat": 4,
 "nbformat_minor": 5
}
