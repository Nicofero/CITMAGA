{
 "cells": [
  {
   "cell_type": "markdown",
   "id": "01a50a8d",
   "metadata": {},
   "source": [
    "# Qiskit tests\n",
    "## Creation of a circuit that implements HHL for Toeplitz symmetrical tridiagonal matrix \n",
    "\n",
    "This notebook is based in 2 papers:\n",
    "\n",
    "- [1] : Harrow, A. W., Hassidim, A., Lloyd, S. (2009). Quantum algorithm for linear systems of equations. Phys. Rev. Lett. 103, 15 (2009), 1–15. <https://doi.org/10.1103/PhysRevLett.103.150502>\n",
    "- [2] : Carrera Vazquez, A., Hiptmair, R., & Woerner, S. (2020). Enhancing the Quantum Linear Systems Algorithm using Richardson Extrapolation.arXiv:2009.04484 <http://arxiv.org/abs/2009.04484>`\n",
    "\n",
    "The code is mostly based in the original code for the HHL solver in Qiskit-Algorithms"
   ]
  },
  {
   "cell_type": "code",
   "execution_count": 1,
   "id": "0f2d3f9b",
   "metadata": {},
   "outputs": [],
   "source": [
    "import numpy as np\n",
    "from typing import Optional\n",
    "from qiskit import QuantumCircuit, QuantumRegister, AncillaRegister, transpile, ClassicalRegister\n",
    "from qiskit.circuit.library import PhaseEstimation\n",
    "from qiskit.circuit.library.arithmetic.piecewise_chebyshev import PiecewiseChebyshev  \n",
    "from qiskit.circuit.library.arithmetic.exact_reciprocal import ExactReciprocal\n",
    "from numpy_matrix import NumPyMatrix\n",
    "from qiskit.quantum_info import Statevector\n",
    "from qiskit.visualization import plot_histogram\n",
    "from qiskit_aer import AerSimulator"
   ]
  },
  {
   "cell_type": "markdown",
   "id": "2754f96c",
   "metadata": {},
   "source": [
    "1. Build circuit\n",
    "2. Build observables [2]"
   ]
  },
  {
   "cell_type": "code",
   "execution_count": 2,
   "id": "ae05a5ec",
   "metadata": {},
   "outputs": [],
   "source": [
    "def get_delta(n_l: int, lambda_min: float, lambda_max: float) -> float:\n",
    "    \"\"\"Calculates the scaling factor to represent exactly lambda_min on nl binary digits.\n",
    "\n",
    "    Args:\n",
    "        n_l: The number of qubits to represent the eigenvalues.\n",
    "        lambda_min: the smallest eigenvalue.\n",
    "        lambda_max: the largest eigenvalue.\n",
    "\n",
    "    Returns:\n",
    "        The value of the scaling factor.\n",
    "    \"\"\"\n",
    "    formatstr = \"#0\" + str(n_l + 2) + \"b\"\n",
    "    lambda_min_tilde = np.abs(lambda_min * (2 ** n_l - 1) / lambda_max)\n",
    "    # floating point precision can cause problems\n",
    "    if np.abs(lambda_min_tilde - 1) < 1e-7:\n",
    "        lambda_min_tilde = 1\n",
    "    binstr = format(int(lambda_min_tilde), formatstr)[2::]\n",
    "    lamb_min_rep = 0\n",
    "    for i, char in enumerate(binstr):\n",
    "        lamb_min_rep += int(char) / (2 ** (i + 1))\n",
    "    return lamb_min_rep\n"
   ]
  },
  {
   "cell_type": "code",
   "execution_count": 3,
   "id": "631a5425",
   "metadata": {},
   "outputs": [],
   "source": [
    "def calculate_norm(qc: QuantumCircuit) -> float:\n",
    "        \"\"\"Calculates the value of the euclidean norm of the solution.\n",
    "\n",
    "        Args:\n",
    "            qc: The quantum circuit preparing the solution x to the system.\n",
    "\n",
    "        Returns:\n",
    "            The value of the euclidean norm of the solution.\n",
    "        \"\"\"\n",
    "        # Calculate the number of qubits\n",
    "        nb = qc.qregs[0].size\n",
    "        nl = qc.qregs[1].size\n",
    "        na = qc.num_ancillas\n",
    "\n",
    "        # Create the Operators Zero and One\n",
    "        # Pauli Strings\n",
    "\n",
    "        # I = Identity\n",
    "        # Z = Z-Gate\n",
    "        \n",
    "        zero_op = (I + Z) / 2\n",
    "        one_op = (I - Z) / 2\n",
    "\n",
    "        # Norm observable\n",
    "        observable = one_op ^ TensoredOp((nl + na) * [zero_op]) ^ (I ^ nb)\n",
    "        norm_2 = (~StateFn(observable) @ StateFn(qc)).eval()\n",
    "\n",
    "        return np.real(np.sqrt(norm_2) / self.scaling)"
   ]
  },
  {
   "cell_type": "code",
   "execution_count": 16,
   "id": "b12c267c",
   "metadata": {},
   "outputs": [],
   "source": [
    "#Function to build the HHL circuit\n",
    "def build_circuit(matrix, vector, tolerance: float = 10e-2, flag: bool = True, meas: bool = False):\n",
    "    \"\"\"\n",
    "    Builds the HHL circuit using the required args\n",
    "    \n",
    "    Args:\n",
    "        `matrix`: The matrix that defines the linear system, i.e. A in Ax = b.\n",
    "        `vector`: The right-hand side of the equation, i.e. b in Ax = b.\n",
    "        `tolerance`: Tolerance of the solution bounds. This value is used to define the 3 tolerances needed for the HHL [2] equation (62).\n",
    "        `flag`: Flag deciding whether the reciprocal circuit is or not exact\n",
    "        `meas`: Flag deciding whether measures are made in the non x qubits\n",
    "        \n",
    "    Returns:\n",
    "        The HHL circuit\n",
    "    \n",
    "    Raises:\n",
    "        ValueError: If the data is not in the right format\n",
    "        ValueError: The matrix dimension is not correct\n",
    "    \"\"\"\n",
    "    \n",
    "    # Define the tolerances of the circuit\n",
    "    epsilon_a = tolerance/6\n",
    "    epsilon_r = tolerance/3\n",
    "    epsilon_s = tolerance/3\n",
    "    \n",
    "    # We need an np.array to write the values to the register\n",
    "    if isinstance(vector,(list,np.ndarray)):\n",
    "        if isinstance(vector,list):\n",
    "            vector = np.array(vector)    \n",
    "        # We define the number of needed qubits and insert the vector to the register\n",
    "        nb = int(np.log2(len(vector)))\n",
    "        vector_circuit = QuantumCircuit(nb)\n",
    "        vector_circuit.initialize(vector / np.linalg.norm(vector), list(range(nb)), None)\n",
    "    else:\n",
    "        raise ValueError(f\"Invalid type for vector: {type(vector)}.\")\n",
    "    \n",
    "    # Define flag, if 1, correct solution, if 0, incorrect\n",
    "    nf = 1\n",
    "    \n",
    "    # Input the matrix A for the QPE\n",
    "    if isinstance(matrix, (list, np.ndarray)):\n",
    "        if isinstance(matrix, list):\n",
    "            matrix = np.array(matrix)\n",
    "\n",
    "        if matrix.shape[0] != matrix.shape[1]:\n",
    "            raise ValueError(\"Input matrix must be square!\")\n",
    "        \n",
    "        if np.log2(matrix.shape[0]) % 1 != 0:\n",
    "            raise ValueError(\"Input matrix dimension must be 2^n!\")\n",
    "        \n",
    "        if not np.allclose(matrix, matrix.conj().T):\n",
    "            raise ValueError(\"Input matrix must be hermitian!\")\n",
    "        \n",
    "        if matrix.shape[0] != 2 ** vector_circuit.num_qubits:\n",
    "            raise ValueError(\n",
    "                \"Input vector dimension does not match input \"\n",
    "                \"matrix dimension! Vector dimension: \"\n",
    "                + str(vector_circuit.num_qubits)\n",
    "                + \". Matrix dimension: \"\n",
    "                + str(matrix.shape[0])\n",
    "            )\n",
    "        # We default to a TridiagonalToeplitz matrix, but in a general case we would use a more general library\n",
    "        # Also, we want the evolution_time to be 2pi/\\landa_{max}, but we update it after, when we have the eigenvalues of the matrix\n",
    "        matrix_circuit = NumPyMatrix(matrix,evolution_time=2 * np.pi, tolerance=epsilon_a)\n",
    "        \n",
    "        # General case\n",
    "        # matrix_circuit = NumPyMatrix(matrix, evolution_time=2 * np.pi)\n",
    "        \n",
    "    else:\n",
    "        raise ValueError(f\"Invalid type for matrix: {type(matrix)}.\")\n",
    "    \n",
    "    # Define condition and eigenvalue bounds    \n",
    "    if (hasattr(matrix_circuit, \"condition_bounds\")):\n",
    "        kappa = matrix_circuit.condition_bounds()[1]\n",
    "    else:\n",
    "        kappa = 1\n",
    "    # Using kappa, the condition bound,  we define nl, the number of qubits needed to represent the eigenvalues\n",
    "    nl = max(nb+1,int(np.log2(kappa))+1)\n",
    "    \n",
    "    # Define eigenvalues\n",
    "    if hasattr(matrix_circuit, \"eigs_bounds\"):\n",
    "        lambda_min, lambda_max = matrix_circuit.eigs_bounds()\n",
    "        \n",
    "        # Constant so that the minimum eigenvalue is represented exactly, since it contributes\n",
    "        # the most to the solution of the system\n",
    "        delta = get_delta(nl, lambda_min, lambda_max)\n",
    "        # Update evolution time\n",
    "        matrix_circuit.evolution_time = 2 * np.pi * delta / lambda_min\n",
    "        # Update the scaling of the solution\n",
    "        scaling = lambda_min\n",
    "    else:\n",
    "        delta = 1 / (2 ** nl)\n",
    "        print(\"The solution will be calculated up to a scaling factor.\")\n",
    "    \n",
    "        \n",
    "    # Define the reciprocal circuit\n",
    "    \n",
    "    # # Using an exact reciprocal circuit\n",
    "    if flag:\n",
    "        reciprocal_circuit = ExactReciprocal(nl, delta)\n",
    "        # Update number of ancilla qubits\n",
    "        na = matrix_circuit.num_ancillas\n",
    "    \n",
    "    # Using Chebyshev interpolation to approximate arcsin(C/x) to a degree of degree\n",
    "    else: \n",
    "        # Calculate breakpoints for the reciprocal approximation\n",
    "        num_values = 2 ** nl\n",
    "        constant = delta\n",
    "        # a as [2] indicates\n",
    "        \n",
    "        # No tengo para nada claro esto, no encuentro que hay que hacer con la a para pasarla a entero\n",
    "        a = int(2**(2*nl/3))  # pylint: disable=invalid-name\n",
    "\n",
    "        # Calculate the degree of the polynomial and the number of intervals\n",
    "        r = 2 * constant / a + np.sqrt(np.abs(1 - (2 * constant / a) ** 2))\n",
    "        degree = min(nb,int(np.log(1+(16.23* np.sqrt(np.log(r) ** 2 + (np.pi / 2) ** 2)* kappa* (2 * kappa - epsilon_r))/ epsilon_r)),)\n",
    "        # As [2]\n",
    "        num_intervals = int(np.ceil(np.log((num_values - 1) / a) / np.log(5)))\n",
    "\n",
    "        # Calculate breakpoints and polynomials\n",
    "        breakpoints = []\n",
    "        for i in range(0, num_intervals):\n",
    "            # Add the breakpoint to the list\n",
    "            breakpoints.append(a * (5 ** i))\n",
    "\n",
    "            # Define the right breakpoint of the interval\n",
    "            if i == num_intervals - 1:\n",
    "                breakpoints.append(num_values - 1)\n",
    "        # Once we have the intervals, and everything is defined, we can make an approximation by a polynomial function of degree\n",
    "        reciprocal_circuit = PiecewiseChebyshev(\n",
    "            lambda x: np.arcsin(constant / x), degree, breakpoints, nl, name=\"c_Rot\"\n",
    "        )\n",
    "        # Number of ancilla qubits\n",
    "        na = max(matrix_circuit.num_ancillas, reciprocal_circuit.num_ancillas)\n",
    "        \n",
    "    # Construction of the circuit\n",
    "    \n",
    "    # Initialise the quantum registers\n",
    "    qb = QuantumRegister(nb,name=\"b\")  # right hand side and solution\n",
    "    ql = QuantumRegister(nl,name=\"0\")  # eigenvalue evaluation qubits\n",
    "    if na > 0:\n",
    "        qa = AncillaRegister(na,name=\"anc\")  # ancilla qubits\n",
    "    qf = QuantumRegister(nf,name=\"flag\")  # flag qubits\n",
    "\n",
    "    if na > 0:\n",
    "        qc = QuantumCircuit(qb, ql, qa, qf)\n",
    "    else:\n",
    "        qc = QuantumCircuit(qb, ql, qf)\n",
    "\n",
    "    # State preparation\n",
    "    qc.append(vector_circuit, qb[:])\n",
    "    qc.barrier(label=\"\\pi_1\")\n",
    "    # QPE\n",
    "    phase_estimation = PhaseEstimation(nl, matrix_circuit)\n",
    "    if na > 0:\n",
    "        qc.append(phase_estimation, ql[:] + qb[:] + qa[: matrix_circuit.num_ancillas])\n",
    "    else:\n",
    "        qc.append(phase_estimation, ql[:] + qb[:])\n",
    "    qc.barrier(label=\"\\pi_2\")\n",
    "    # Conditioned rotation\n",
    "    if flag:\n",
    "        qc.append(reciprocal_circuit, ql[::-1] + [qf[0]])\n",
    "    else:\n",
    "        qc.append(\n",
    "            reciprocal_circuit.to_instruction(),\n",
    "            ql[::-1] + [qf[0]] + qa[: reciprocal_circuit.num_ancillas],\n",
    "        )\n",
    "    \n",
    "    qc.barrier(label=\"\\pi_3\")\n",
    "    # QPE inverse\n",
    "    if na > 0:\n",
    "        qc.append(phase_estimation.inverse(), ql[:] + qb[:] + qa[: matrix_circuit.num_ancillas])\n",
    "    else:\n",
    "        qc.append(phase_estimation.inverse(), ql[:] + qb[:])\n",
    "    \n",
    "    if meas:\n",
    "        qc.measure_all()\n",
    "    return qc,scaling"
   ]
  },
  {
   "cell_type": "code",
   "execution_count": 5,
   "id": "f3da5a67",
   "metadata": {},
   "outputs": [],
   "source": [
    "# Calc observables\n",
    "def calc_observables(qc: QuantumCircuit, observable: Optional[int] = 3):\n",
    "    \"\"\"Calculates the value of the observable(s) given.\n",
    "\n",
    "        Args:\n",
    "            `qc`: The quantum circuit preparing the solution x to the system.\n",
    "            # TODO\n",
    "            # Not yet implemented\n",
    "            `observable`: Information to be extracted from the solution. 1 - ||x'||, 2 - F_b(x), 3 - Average solution\n",
    "            `post_processing`: Function to compute the value of the observable.\n",
    "\n",
    "        Returns:\n",
    "            The value of the observable(s) and the circuit results before post-processing as a tuple.\n",
    "        \"\"\"\n",
    "    nb = qc.qregs[0].size\n",
    "    nl = qc.qregs[1].size\n",
    "    na = qc.num_ancillas\n",
    "    \n",
    "    \n",
    "    \n",
    "    return solution"
   ]
  },
  {
   "cell_type": "code",
   "execution_count": 6,
   "id": "d291d158",
   "metadata": {},
   "outputs": [],
   "source": [
    "# Solve circuit\n",
    "def solve(qc: QuantumCircuit):\n",
    "    \n",
    "    return solution"
   ]
  },
  {
   "cell_type": "code",
   "execution_count": 7,
   "id": "29daaf9e",
   "metadata": {},
   "outputs": [],
   "source": [
    "def tridiag_matrix(diag,up,n) -> np.ndarray:\n",
    "    \"\"\"Returns a tridiagonal symmetrical matrix\n",
    "    \n",
    "    Args:\n",
    "        `diag`: Value of the diagonal\n",
    "        `up`: Value of the subdiagonals\n",
    "        `n`: Size of the matrix\n",
    "    \n",
    "    Returns:\n",
    "        The matrix\n",
    "    \"\"\"\n",
    "    if n<2: \n",
    "        raise ValueError(\"The dimension of the matrix must be greater than 2\")\n",
    "    \n",
    "    rows = []\n",
    "    \n",
    "    for i in range(n):\n",
    "        row = np.zeros(n)\n",
    "        if i>0:\n",
    "            row[i-1]=up\n",
    "        row[i]=diag\n",
    "        if i<n-1:\n",
    "            row[i+1]=up\n",
    "            \n",
    "        rows.append(row)\n",
    "        \n",
    "    matrix = np.array(rows)\n",
    "    return matrix"
   ]
  },
  {
   "cell_type": "code",
   "execution_count": 8,
   "id": "ac4d4737",
   "metadata": {},
   "outputs": [],
   "source": [
    "def create_observable(qc: QuantumCircuit):\n",
    "    nb = qc.qregs[0].size\n",
    "    nl = qc.qregs[1].size\n",
    "    na = qc.num_ancillas\n",
    "    \n",
    "    zero_op = np.array([[1,0],[0,0]])\n",
    "    one_op = np.array([[0,0],[0,1]])\n",
    "    t_zero= zero_op\n",
    "    t_one = one_op\n",
    "    \n",
    "    for _ in range(nl+na):\n",
    "        t_zero = np.kron(t_zero,zero_op)\n",
    "        \n",
    "    for _ in range(nb):\n",
    "        t_one = np.kron(t_one,one_op)\n",
    "        \n",
    "    observable = np.kron(t_one,np.kron(t_zero,t_one))\n",
    "    return observable"
   ]
  },
  {
   "cell_type": "code",
   "execution_count": 9,
   "id": "30f42bf3",
   "metadata": {},
   "outputs": [],
   "source": [
    "def calculate_expectation_value_from_counts(counts, observable):\n",
    "    expectation_value = 0\n",
    "    total_shots = sum(counts.values())\n",
    "    \n",
    "    for outcome, count in counts.items():\n",
    "        prob = count / total_shots\n",
    "        # Convert binary string outcome to integer\n",
    "        outcome_index = int(outcome, 2)\n",
    "        # Extract the diagonal element corresponding to the outcome\n",
    "        expectation_value += prob * observable[outcome_index, outcome_index]\n",
    "    \n",
    "    return expectation_value"
   ]
  },
  {
   "cell_type": "code",
   "execution_count": 10,
   "id": "503689de",
   "metadata": {},
   "outputs": [],
   "source": [
    "def solution(qc: QuantumCircuit) -> np.ndarray:\n",
    "    statevector = Statevector(qc)\n",
    "    st=np.array(statevector)\n",
    "    num = int(len(st)/2)\n",
    "    sol = []\n",
    "    for i in range(2**qc.qregs[0].size):\n",
    "        sol.append(st[num+i].real)\n",
    "    sol = np.array(sol)\n",
    "    sol = sol/np.linalg.norm(sol)\n",
    "    return sol"
   ]
  },
  {
   "cell_type": "markdown",
   "id": "86362a87",
   "metadata": {},
   "source": [
    "---\n",
    "### **Celda de pruebas**"
   ]
  },
  {
   "cell_type": "code",
   "execution_count": 22,
   "id": "bec8f818",
   "metadata": {},
   "outputs": [
    {
     "data": {
      "image/png": "[encoded data removed]",
      "text/plain": [
       "<Figure size 890.399x367.889 with 1 Axes>"
      ]
     },
     "execution_count": 22,
     "metadata": {},
     "output_type": "execute_result"
    }
   ],
   "source": [
    "vector = np.array([1,0])\n",
    "matrix = tridiag_matrix(1,-1/3,2)\n",
    "\n",
    "hhl,scaling = build_circuit(matrix,vector,10e-2,flag=True)\n",
    "hhl.draw('mpl')"
   ]
  },
  {
   "cell_type": "code",
   "execution_count": 23,
   "id": "52bae72e",
   "metadata": {},
   "outputs": [
    {
     "data": {
      "image/png": "[encoded data removed]",
      "text/plain": [
       "<Figure size 890.399x869.556 with 1 Axes>"
      ]
     },
     "execution_count": 23,
     "metadata": {},
     "output_type": "execute_result"
    }
   ],
   "source": [
    "vector = np.array([1]*8)\n",
    "matrix = tridiag_matrix(2,-1,8)\n",
    "hhl,_ = build_circuit(matrix,vector,flag=True)\n",
    "hhl.draw('mpl')"
   ]
  },
  {
   "cell_type": "markdown",
   "id": "efdf3076",
   "metadata": {},
   "source": [
    "-----\n",
    "We can test the circuit using statevectors"
   ]
  },
  {
   "cell_type": "code",
   "execution_count": 85,
   "id": "7689659a",
   "metadata": {},
   "outputs": [
    {
     "name": "stdout",
     "output_type": "stream",
     "text": [
      "[0.18092092 0.31602132 0.40567816 0.45035917 0.45035917 0.40567816\n",
      " 0.31602132 0.18092092]\n"
     ]
    }
   ],
   "source": [
    "sol1=solution(hhl)\n",
    "print(sol1)"
   ]
  },
  {
   "cell_type": "markdown",
   "id": "fcc4888e",
   "metadata": {},
   "source": [
    "Exact solution"
   ]
  },
  {
   "cell_type": "code",
   "execution_count": 35,
   "id": "e5dc37f6",
   "metadata": {},
   "outputs": [
    {
     "name": "stdout",
     "output_type": "stream",
     "text": [
      "[0.18033393 0.31558437 0.40575134 0.45083482 0.45083482 0.40575134\n",
      " 0.31558437 0.18033393]\n"
     ]
    }
   ],
   "source": [
    "sol=np.linalg.solve(matrix,vector/np.linalg.norm(vector))\n",
    "sol/np.linalg.norm(sol)\n",
    "norm=np.sqrt(sum(sol**2))\n",
    "\n",
    "sol2=sol/norm\n",
    "print(sol2)"
   ]
  },
  {
   "cell_type": "markdown",
   "id": "5ad02a9d",
   "metadata": {},
   "source": [
    "If we have a 2-dimensional vector, the solution with statevectors is exact (we only have one qubit for $b$). But as we increase the dimension, the solution worsens"
   ]
  },
  {
   "cell_type": "code",
   "execution_count": 87,
   "id": "789663fc",
   "metadata": {},
   "outputs": [
    {
     "name": "stdout",
     "output_type": "stream",
     "text": [
      "The difference is: [5.86988560e-04 4.36950597e-04 7.31798608e-05 4.75649700e-04\n",
      " 4.75649699e-04 7.31798605e-05 4.36950597e-04 5.86988560e-04]\n",
      "The norm of the diff is: 0.001238611579767382\n"
     ]
    }
   ],
   "source": [
    "diff = np.abs(sol1-sol2)\n",
    "print(f'The difference is: {diff}')\n",
    "MSE = np.linalg.norm(diff)\n",
    "print(f'The norm of the diff is: {MSE}')"
   ]
  },
  {
   "cell_type": "markdown",
   "id": "75e8d99b",
   "metadata": {},
   "source": [
    "-----\n",
    "## Prueba con shots"
   ]
  },
  {
   "cell_type": "code",
   "execution_count": 49,
   "id": "0a86a4dd",
   "metadata": {},
   "outputs": [
    {
     "name": "stdout",
     "output_type": "stream",
     "text": [
      "Conditional Probabilities of the First Qubit: {'000': 0.06640625, '001': 0.09033203125, '010': 0.1527099609375, '011': 0.1905517578125, '100': 0.195068359375, '101': 0.141357421875, '110': 0.089599609375, '111': 0.073974609375}\n"
     ]
    }
   ],
   "source": [
    "from qiskit_aer.primitives import SamplerV2\n",
    "from itertools import product\n",
    "\n",
    "sim = AerSimulator()\n",
    "hhl_meas,_ = build_circuit(matrix,vector,10e-2,True,True)\n",
    "hhl_meas = transpile(hhl_meas,sim)\n",
    "\n",
    "sampler = SamplerV2()\n",
    "\n",
    "shots = 8192\n",
    "\n",
    "job = sampler.run([hhl_meas],shots=shots)\n",
    "job_result = job.result()\n",
    "\n",
    "counts=job_result[0].data.meas.get_counts()\n",
    "repeat = int(np.log2(len(vector)))\n",
    "all_outcomes = [''.join(outcome) for outcome in product('01', repeat=repeat)]\n",
    "\n",
    "# Initialize the dictionary with each binary string as a key and a value of 0\n",
    "prob_amplitudes = {outcome: 0 for outcome in all_outcomes}\n",
    "\n",
    "for outcome, count in counts.items():\n",
    "    first_qubit_state = outcome[-repeat:]  # Get the state of the first qubit\n",
    "    prob_amplitudes[first_qubit_state] += count / shots\n",
    "\n",
    "print(\"Conditional Probabilities of the First Qubit:\", prob_amplitudes)\n",
    "\n",
    "# plot_histogram(job_result[0].data.meas.get_counts())"
   ]
  },
  {
   "cell_type": "markdown",
   "id": "a599cc75",
   "metadata": {},
   "source": [
    "Una vez tenemos las amplitudes calculadas, podemos ver su distancia con el valor real del problema. Para poder compararlas, debemos hacer $\\frac{\\vec{x}}{||\\vec{x}||}$, sobre el diccionario de valores"
   ]
  },
  {
   "cell_type": "code",
   "execution_count": 50,
   "id": "80ba25f9",
   "metadata": {},
   "outputs": [
    {
     "name": "stdout",
     "output_type": "stream",
     "text": [
      "The difference is: [0.00517617 0.07731831 0.0029529  0.05177778 0.06369109 0.03289715\n",
      " 0.0792502  0.01478666]\n",
      "The norm of the diff is: 0.14259238270058694\n"
     ]
    }
   ],
   "source": [
    "ampl = np.array(list(prob_amplitudes.values()))\n",
    "ampl = ampl/np.linalg.norm(ampl)\n",
    "\n",
    "# Calculate the difference\n",
    "diff = np.abs(ampl-sol2)\n",
    "print(f'The difference is: {diff}')\n",
    "MSE = np.linalg.norm(diff)\n",
    "print(f'The norm of the diff is: {MSE}')"
   ]
  },
  {
   "cell_type": "markdown",
   "id": "8902f56f",
   "metadata": {},
   "source": [
    "Pruebas distintas de observables"
   ]
  },
  {
   "cell_type": "code",
   "execution_count": 30,
   "id": "82b37fe9",
   "metadata": {},
   "outputs": [
    {
     "name": "stdout",
     "output_type": "stream",
     "text": [
      "||x|| = 0.792497165807235\n"
     ]
    }
   ],
   "source": [
    "from qiskit_aer.primitives import SamplerV2\n",
    "\n",
    "sim = AerSimulator()\n",
    "hhl_meas = hhl\n",
    "hhl_meas.measure_all()\n",
    "\n",
    "hhl_meas = transpile(hhl,sim)\n",
    "\n",
    "sampler = SamplerV2()\n",
    "shots = 8192\n",
    "\n",
    "job = sampler.run([hhl_meas],shots=shots)\n",
    "job_result = job.result()\n",
    "counts=job_result[0].data.meas.get_counts()\n",
    "filtered_counts = {k: v for k, v in counts.items() if k[0] == '1'}\n",
    "total_filtered_counts = sum(filtered_counts.values())\n",
    "norm_b = np.linalg.norm(vector)\n",
    "\n",
    "P1 = total_filtered_counts/shots\n",
    "eigs = np.linalg.eigvals(matrix)\n",
    "nl = hhl.qregs[1].size\n",
    "C = get_delta(nl,min(eigs),max(eigs))*2**nl\n",
    "c = 1\n",
    "\n",
    "norm_x = (P1/(C**2))**0.5\n",
    "\n",
    "print(f'||x|| = {norm_x}')\n"
   ]
  },
  {
   "cell_type": "markdown",
   "id": "29b789fd",
   "metadata": {},
   "source": [
    "Solucion exacta"
   ]
  },
  {
   "cell_type": "code",
   "execution_count": 150,
   "id": "b164d2bf",
   "metadata": {},
   "outputs": [
    {
     "data": {
      "text/plain": [
       "array([[ 0.70710678,  0.70710678,  0.        ,  0.        ],\n",
       "       [-0.70710678,  0.70710678, -0.        ,  0.        ],\n",
       "       [ 0.        ,  0.        ,  0.70710678,  0.70710678],\n",
       "       [-0.        ,  0.        , -0.70710678,  0.70710678]])"
      ]
     },
     "execution_count": 150,
     "metadata": {},
     "output_type": "execute_result"
    }
   ],
   "source": [
    "H = 1/np.sqrt(2)*np.array([[1,1],[-1,1]])\n",
    "I = np.eye(2)\n",
    "np.kron(I,H)"
   ]
  },
  {
   "cell_type": "code",
   "execution_count": 143,
   "id": "aa50b22f",
   "metadata": {},
   "outputs": [
    {
     "data": {
      "text/plain": [
       "0.6249999999999991"
      ]
     },
     "execution_count": 143,
     "metadata": {},
     "output_type": "execute_result"
    }
   ],
   "source": [
    "uno = np.array([1,0,0,0])\n",
    "aux = np.outer(uno,uno)\n",
    "I_nb = np.eye(2)\n",
    "M = np.kron(aux,I_nb)\n",
    "statevector = Statevector(hhl)\n",
    "st=np.array(statevector).real\n",
    "n = int(len(st)/2)\n",
    "st = st[n:]\n",
    "M_dg = M.conj().T\n",
    "obs = np.matmul(M_dg,M)\n",
    "np.vdot(st,obs @ st)"
   ]
  },
  {
   "cell_type": "markdown",
   "id": "ebdaa0bd",
   "metadata": {},
   "source": [
    "-----\n",
    "## Comprobacion de que se meta bien $b$"
   ]
  },
  {
   "cell_type": "code",
   "execution_count": 96,
   "id": "b357bb17",
   "metadata": {},
   "outputs": [],
   "source": [
    "def vec_circ(vector: np.ndarray) -> QuantumCircuit:\n",
    "    \n",
    "    nb = int(np.log2(len(vector)))\n",
    "    vector_circuit = QuantumCircuit(nb)\n",
    "    vector_circuit.initialize(vector / np.linalg.norm(vector), list(range(nb)), None)\n",
    "    \n",
    "    return vector_circuit"
   ]
  },
  {
   "cell_type": "code",
   "execution_count": 168,
   "id": "35b0c9c5",
   "metadata": {},
   "outputs": [
    {
     "data": {
      "image/png": "[encoded data removed]",
      "text/plain": [
       "<Figure size 454.719x284.278 with 1 Axes>"
      ]
     },
     "execution_count": 168,
     "metadata": {},
     "output_type": "execute_result"
    }
   ],
   "source": [
    "qc=vec_circ(np.array([1,0,1,1,0.5,1,1,1]))\n",
    "qc.draw('mpl')"
   ]
  },
  {
   "cell_type": "markdown",
   "id": "c60561cb",
   "metadata": {},
   "source": [
    "---\n",
    "## Error de la solución\n",
    "\n",
    "Se tendrá que, siendo $\\vec{x}$ la solución del problema con el vector de lados derechos normalizada, $\\vec{x}'$ el vector resultante del problema, se tredrá que $\\vec{x}=\\frac{||\\vec{x}||\\cdot\\vec{x}'}{||\\vec{x}'||}$. Por lo tanto, utilizando el observable indicado en [2] además de los valores obtenidos, podremos obtener este valor."
   ]
  },
  {
   "cell_type": "code",
   "execution_count": 298,
   "id": "29bf9b4b",
   "metadata": {},
   "outputs": [
    {
     "data": {
      "text/plain": [
       "0.6250000000000001"
      ]
     },
     "execution_count": 298,
     "metadata": {},
     "output_type": "execute_result"
    }
   ],
   "source": [
    "sol_e = np.linalg.solve(matrix,vector)\n",
    "np.linalg.norm(sol_e)**2 * scaling**2"
   ]
  },
  {
   "cell_type": "code",
   "execution_count": 304,
   "id": "00d3fa44",
   "metadata": {},
   "outputs": [
    {
     "data": {
      "text/plain": [
       "0.14062499999999978"
      ]
     },
     "execution_count": 304,
     "metadata": {},
     "output_type": "execute_result"
    }
   ],
   "source": [
    "statevector = Statevector(hhl)\n",
    "st=np.array(statevector)\n",
    "num = int(len(st)/2)\n",
    "sol = []\n",
    "for i in range(2):\n",
    "    sol.append(st[num+i].real)\n",
    "sol = np.array(sol)\n",
    "one = np.array([0,1])\n",
    "M = np.outer(one,one)\n",
    "prob = np.vdot(sol, M @ sol)\n",
    "prob /scaling ** 2"
   ]
  }
 ],
 "metadata": {
  "kernelspec": {
   "display_name": "Python 3 (ipykernel)",
   "language": "python",
   "name": "python3"
  },
  "language_info": {
   "codemirror_mode": {
    "name": "ipython",
    "version": 3
   },
   "file_extension": ".py",
   "mimetype": "text/x-python",
   "name": "python",
   "nbconvert_exporter": "python",
   "pygments_lexer": "ipython3",
   "version": "3.10.0"
  }
 },
 "nbformat": 4,
 "nbformat_minor": 5
}
